{
 "cells": [
  {
   "cell_type": "code",
   "execution_count": 1,
   "metadata": {},
   "outputs": [],
   "source": [
    "from osgeo import gdal\n",
    "from matplotlib.colors import ListedColormap\n",
    "import matplotlib.pyplot as plt\n",
    "import numpy as np\n",
    "import read_cover_fraction as rcf\n",
    "import xarray as xr\n",
    "import pandas as pd\n",
    "import geopandas as gpd\n",
    "from shapely import geometry"
   ]
  },
  {
   "cell_type": "markdown",
   "metadata": {},
   "source": [
    "# Declare functions"
   ]
  },
  {
   "cell_type": "markdown",
   "metadata": {},
   "source": [
    "## function to read the data"
   ]
  },
  {
   "cell_type": "code",
   "execution_count": 2,
   "metadata": {},
   "outputs": [],
   "source": [
    "def get_dataSG(fname,latmax,latmin,lonmax,lonmin):\n",
    "\n",
    "    gdal.UseExceptions()\n",
    "    ds = gdal.Open(fname)\n",
    "    data = ds.ReadAsArray()\n",
    "    gt = ds.GetGeoTransform()\n",
    "    #\n",
    "    #\n",
    "    #\n",
    "    xres = gt[1]\n",
    "    yres = gt[5]\n",
    "    #\n",
    "    xmin = gt[0]\n",
    "    ymin = gt[3]\n",
    "    #\n",
    "    xmax = gt[0] + (xres * ds.RasterXSize)\n",
    "    ymax = gt[3] + (yres * ds.RasterYSize)\n",
    "#    else:\n",
    "#        xmax = gt[0] + (xres * ds.RasterXSize) \n",
    "#        ymax = gt[3] + (yres * ds.RasterYSize) \n",
    "\n",
    "\n",
    "    X=np.arange(xmin+xres,xmax+xres,xres)\n",
    "    Y=np.arange(ymin+yres,ymax+yres,yres)\n",
    "\n",
    "\n",
    "    #Chunck the data to save RAM for plotting\n",
    "    #Ydecreasing\n",
    "    b=np.min(np.where(Y<latmin)[0])\n",
    "    a=np.max(np.where(Y>latmax)[0])\n",
    "\n",
    "    c=np.max(np.where(X<lonmin)[0])\n",
    "    d=np.min(np.where(X>lonmax)[0])\n",
    "\n",
    "#    print(np.max(data))\n",
    "#    print(np.min(data))\n",
    "    #ECOCLIMAP data have no projections so no need to reproject the data\n",
    "    #to be verified for other datasets\n",
    "    LAT=Y[a:b]\n",
    "    LON=X[c:d]\n",
    "    D=data[a:b,c:d]\n",
    "\n",
    "    return (LAT,LON,D)"
   ]
  },
  {
   "cell_type": "markdown",
   "metadata": {},
   "source": [
    "## Read station coordinates function"
   ]
  },
  {
   "cell_type": "code",
   "execution_count": 3,
   "metadata": {},
   "outputs": [],
   "source": [
    "def readstationcoordinate(fnstation):\n",
    "    data=open(fnstation,'r')\n",
    "    lat=[]\n",
    "    lon=[]\n",
    "    for d in data:\n",
    "        lat.append(d.split(' ')[0].strip(' '))\n",
    "        lon.append(d.split(' ')[1].strip(' '))\n",
    "    LAT=np.array(lat).astype(float)\n",
    "    LON=np.array(lon).astype(float)\n",
    "    return(LAT,LON)"
   ]
  },
  {
   "cell_type": "markdown",
   "metadata": {},
   "source": [
    "## Function to set correspondance between station and line in the csv files"
   ]
  },
  {
   "cell_type": "code",
   "execution_count": 4,
   "metadata": {},
   "outputs": [],
   "source": [
    "def set_covernumber_station(LAT,LON,LATSG,LONSG,covernum,DSG):\n",
    "    Linenum=[]\n",
    "    for x,_ in enumerate(LAT):\n",
    "        idx=np.argmin(np.abs(LAT[x]-LATSG))\n",
    "        idy=np.argmin(np.abs(LON[x]-LONSG))\n",
    "        Linenum.append(np.where(covernum==int(DSG[idx,idy]))[0][0])\n",
    "    return (Linenum)"
   ]
  },
  {
   "cell_type": "markdown",
   "metadata": {},
   "source": [
    "## Write cover station text file"
   ]
  },
  {
   "cell_type": "code",
   "execution_count": 5,
   "metadata": {},
   "outputs": [],
   "source": [
    "def write_txt_file_cover_station(fntxt,LAT,LON,Linenum,covernum,covername,cityfrac,vegfrac,inwaterfrac,seafrac):\n",
    "    data=open(fntxt,'w')\n",
    "    data.write('LAT, LON, Covernum, Covername, City fraction, Vegetation fraction, Inland water fraction, sea fraction\\n')\n",
    "    for x,_ in enumerate(LAT):\n",
    "        data.write(str(LAT[x])+', '+str(LON[x])+', '+str(covernum[Linenum[x]])+', '+covername[Linenum[x]]+', '+\n",
    "                   str(cityfrac[Linenum[x]])+', '+str(vegfrac[Linenum[x]])+', '+\n",
    "                   str(inwaterfrac[Linenum[x]])+', '+str(seafrac[Linenum[x]])+'\\n')\n",
    "    data.close()\n",
    "    return"
   ]
  },
  {
   "cell_type": "markdown",
   "metadata": {},
   "source": [
    "## Function to extract the Surfex data"
   ]
  },
  {
   "cell_type": "code",
   "execution_count": 6,
   "metadata": {},
   "outputs": [],
   "source": [
    "def surfex_fractions (fnforc,fn,Variablelist):\n",
    "    FORC=xr.open_dataset(fnforc)\n",
    "    OUT=xr.open_dataset(fn)\n",
    "    x_shape=int(OUT['IMAX'].values.mean())\n",
    "    y_shape=int(OUT['JMAX'].values.mean())\n",
    "    Pn=OUT.PATCH.Number_of_Patches\n",
    "    df=pd.DataFrame()\n",
    "    df['Geometry']=[geometry.Point(x, y) for x, y in zip(FORC['LAT'], FORC['LON'])]\n",
    "    gdf=gpd.GeoDataFrame(df,geometry='Geometry', crs= 'EPSG:4326')\n",
    "    LEG=[]\n",
    "    LEG.append('Geometry')\n",
    "    for Variable in Variablelist:\n",
    "        if len(OUT[Variable].shape)==3:\n",
    "            for P in Pn: \n",
    "                LEG.append(OUT[Variable].comment)\n",
    "                vname=Variable+'Pa'+str(int(np.mean(P.values))+1)\n",
    "                gdf[vname]=OUT[Variable][int(np.mean(P.values))].to_dataframe(name=vname).values\n",
    "        else:\n",
    "            gdf[Variable]=OUT[Variable].to_dataframe(name=Variable).values\n",
    "            LEG.append(OUT[Variable].comment)\n",
    "    return (x_shape,y_shape,gdf,LEG)"
   ]
  },
  {
   "cell_type": "markdown",
   "metadata": {},
   "source": [
    "## Get lat/lon for plotting"
   ]
  },
  {
   "cell_type": "code",
   "execution_count": 7,
   "metadata": {},
   "outputs": [],
   "source": [
    "def getlatlon1d(gdf,x_shape,y_shape):\n",
    "    gdf['LONGITUDE']=[d.y for d in gdf.geometry]\n",
    "    gdf['LATITUDE']=[d.x for d in gdf.geometry]\n",
    "    LON=gdf.LONGITUDE.values.reshape(x_shape,y_shape)\n",
    "    LAT=gdf.LATITUDE.values.reshape(x_shape,y_shape)\n",
    "    LAT1d=LAT[0,:]\n",
    "    LON1d=LON[:,0]\n",
    "    return (LON1d,LAT1d)"
   ]
  },
  {
   "cell_type": "markdown",
   "metadata": {},
   "source": [
    "## Plot surfex data"
   ]
  },
  {
   "cell_type": "code",
   "execution_count": 8,
   "metadata": {},
   "outputs": [],
   "source": [
    "def surfex_plot_ecosg_eco2(fnforc,fneco2,fnSG,Variableslist='Z0',colormap='jet',VMIN=0,VMAX=1,\n",
    "                          latc=53.2,lonc=-8.2,extent=4.6,stationno='00'):\n",
    "    if type(Variableslist)!=list:\n",
    "        Variableslist=[Variableslist]\n",
    "    (x_shape,y_shape,gdfeco2,LEGeco2)=surfex_fractions(fnforc,fneco2,Variableslist)\n",
    "    (x_shape,y_shape,gdfSG,LEGSG)=surfex_fractions(fnforc,fnSG,Variableslist)\n",
    "    (LON1d2,LAT1d2)=getlatlon1d(gdfeco2,x_shape,y_shape)\n",
    "    (LON1dsg,LAT1dsg)=getlatlon1d(gdfSG,x_shape,y_shape)\n",
    "    if type(latc)!=list:\n",
    "        latc=[latc]\n",
    "        lonc=[lonc]\n",
    "        stationno=[stationno]\n",
    "    for j,_ in enumerate(latc):\n",
    "        latmin=latc[j]-extent\n",
    "        latmax=latc[j]+extent\n",
    "        lonmin=lonc[j]-extent\n",
    "        lonmax=lonc[j]+extent\n",
    "        for i,vname in enumerate(gdfeco2.columns):\n",
    "            if 'Geometry' not in vname:\n",
    "                if 'LONGITUDE' not in vname:\n",
    "                    if 'LATITUDE' not in vname:\n",
    "                        fig,axes=plt.subplots(1,2,figsize=(15*2,15))\n",
    "                        c=axes[0].pcolormesh(LON1dsg,LAT1dsg,gdfSG[vname].values.reshape(x_shape,y_shape),cmap=colormap,vmin=VMIN,vmax=VMAX)\n",
    "                        axes[0].set_xlabel('Longitude',fontsize=20)\n",
    "                        axes[0].set_ylabel('Latitude',fontsize=20)\n",
    "                        axes[0].xaxis.set_tick_params(labelsize=20)\n",
    "                        axes[0].yaxis.set_tick_params(labelsize=20)\n",
    "                        axes[0].set_xlim(lonmin,lonmax)\n",
    "                        axes[0].set_ylim(latmin,latmax)\n",
    "                        axes[0].set_title(vname+' ECOCLIMAPSG',fontsize=20)\n",
    "                        c=axes[1].pcolormesh(LON1d2,LAT1d2,gdfeco2[vname].values.reshape(x_shape,y_shape),cmap=colormap,vmin=VMIN,vmax=VMAX)\n",
    "                        axes[1].set_xlabel('Longitude',fontsize=20)\n",
    "                        axes[1].set_ylabel('Latitude',fontsize=20)\n",
    "                        axes[1].xaxis.set_tick_params(labelsize=20)\n",
    "                        axes[1].yaxis.set_tick_params(labelsize=20)\n",
    "                        axes[1].set_xlim(lonmin,lonmax)\n",
    "                        axes[1].set_ylim(latmin,latmax)\n",
    "                        axes[1].set_title(vname+' ECOCLIMAP2',fontsize=20)\n",
    "                        cbar_ax = fig.add_axes([0.91, 0.10, 0.03, 0.8])\n",
    "                        cb=fig.colorbar(c, cax=cbar_ax) \n",
    "                        cb.set_label(LEGeco2[i],fontsize=20)\n",
    "                        cb.ax.tick_params(labelsize=20)\n",
    "                        fig.savefig(vname+'latc'+str(latc[j])+'lonc'+str(lonc[j])+'sta'+str(stationno[j])+'surfex.png')\n",
    "                        plt.close(fig)\n",
    "    return"
   ]
  },
  {
   "cell_type": "code",
   "execution_count": 9,
   "metadata": {},
   "outputs": [],
   "source": [
    "def plot_ecosg_eco2_fraction(fractionsg,LONsg,LATsg,fractionII,LONII,LATII,colormap='jet',VMIN=0,VMAX=1,\n",
    "                          latc=53.2,lonc=-8.2,extent=4.6,stationno='00',LEG='Fraction',vname='Fraction'):\n",
    "#function to plot ecoclimap2 and ecococlimap SG fractions in its native resolution\n",
    "#fractionsg fraction data ecoclimap sg\n",
    "#LONsg.LATsg longitude latitude ecoclimap SG\n",
    "#fractionII fraction data ecoclimap 2\n",
    "#LONII,LATII latitude longitude ecoclimap2 \n",
    "#VMIN colorbar min\n",
    "#VMAX colorbar max\n",
    "#vname variable name for filename save\n",
    "#LEG colorbar legend char\n",
    "#latc,lonc longitude latitude center of the plot\n",
    "#extent extent of the plot\n",
    "# stationno station num or name for filesave\n",
    "    if type(latc)!=list:\n",
    "        latc=[latc]\n",
    "        lonc=[lonc]\n",
    "        stationno=[stationno]\n",
    "    for j,_ in enumerate(latc):\n",
    "        latmin=latc[j]-extent\n",
    "        latmax=latc[j]+extent\n",
    "        lonmin=lonc[j]-extent\n",
    "        lonmax=lonc[j]+extent\n",
    "        fig, axes = plt.subplots(1, 2,figsize=(25, 25))\n",
    "        c=axes[0].pcolormesh(LONsg,LATsg,fractionsg,cmap=colormap, vmin=VMIN,vmax=VMAX)\n",
    "        axes[0].set_xlabel('Longitude',fontsize=20)\n",
    "        axes[0].set_ylabel('Latitude',fontsize=20)\n",
    "        axes[0].xaxis.set_tick_params(labelsize=20)\n",
    "        axes[0].yaxis.set_tick_params(labelsize=20)\n",
    "        axes[0].set_xlim(lonmin,lonmax)\n",
    "        axes[0].set_ylim(latmin,latmax)\n",
    "        axes[0].set_title(vname+' ECOCLIMAPSG',fontsize=20)\n",
    "        c=axes[1].pcolormesh(LONII,LATII,fractionII,cmap=colormap,vmin=VMIN,vmax=VMAX)\n",
    "        axes[1].set_xlabel('Longitude',fontsize=20)\n",
    "        axes[1].set_ylabel('Latitude',fontsize=20)\n",
    "        axes[1].xaxis.set_tick_params(labelsize=20)\n",
    "        axes[1].yaxis.set_tick_params(labelsize=20)\n",
    "        axes[1].set_xlim(lonmin,lonmax)\n",
    "        axes[1].set_ylim(latmin,latmax)\n",
    "        axes[1].set_title(vname+' ECOCLIMAP2',fontsize=20)\n",
    "        cbar_ax = fig.add_axes([0.91, 0.10, 0.03, 0.8])\n",
    "        cb=fig.colorbar(c, cax=cbar_ax) \n",
    "        cb.set_label(LEG,fontsize=20)\n",
    "        cb.ax.tick_params(labelsize=20)\n",
    "        fig.savefig(vname+'latc'+str(latc[j])+'lonc'+str(lonc[j])+'sta'+str(stationno[j])+'native.png')\n",
    "        plt.close(fig)\n",
    "    return"
   ]
  },
  {
   "cell_type": "markdown",
   "metadata": {},
   "source": [
    "# MAIN "
   ]
  },
  {
   "cell_type": "markdown",
   "metadata": {},
   "source": [
    "## Airport station coordinate"
   ]
  },
  {
   "cell_type": "code",
   "execution_count": 10,
   "metadata": {},
   "outputs": [],
   "source": [
    "#Cork airport\n",
    "corklat=51.842\n",
    "corklon=-8.485\n",
    "#Dublin airport\n",
    "dubalat=53.423 \n",
    "dubalon=-6.238\n",
    "#Knock airport\n",
    "Knlat=53.906\n",
    "Knlon=-8.817\n",
    "#Shannon airport\n",
    "Shlat=52.687\n",
    "Shlon=-8.917\n",
    "# Sligo airport\n",
    "Sllat=54.274\n",
    "Sllon=-8.592\n",
    "LAT=[corklat,dubalat,Knlat,Shlat,Sllat]\n",
    "LON=[corklon,dubalon,Knlon,Shlon,Sllat]\n",
    "AIRPORT=['Cork','Dublin','Knock','Shannon','Sligo']"
   ]
  },
  {
   "cell_type": "markdown",
   "metadata": {},
   "source": [
    "## Open ECOCLIMAP-SG data"
   ]
  },
  {
   "cell_type": "code",
   "execution_count": 11,
   "metadata": {},
   "outputs": [],
   "source": [
    "latmax=55.5\n",
    "latmin=50.9\n",
    "lonmax=-5.4\n",
    "lonmin=-11\n",
    "\n",
    "fnameSG='/mnt/g/ECOCLIMAP/ECOCLIMAPSG/test_ecosg.tif'\n",
    "(LATSG,LONSG,DSG)=get_dataSG(fnameSG,latmax,latmin,lonmax,lonmin)\n",
    "covernamef='/mnt/g/ECOCLIMAP/ECOCLIMAPSG/ECOCLIMAP_SG_cover_data.csv'\n",
    "#get the cover deatils from the csvfile\n",
    "(fieldnames,covernum,covername,cityfrac,vegfrac,inwaterfrac,seafrac)=rcf.cover_fraction(covernamef)\n",
    "#create fraction array \n",
    "TownfracSG=rcf.convert_to_cover_fraction(DSG,cityfrac)\n",
    "VegfracSG=rcf.convert_to_cover_fraction(DSG,vegfrac)\n",
    "InwfracSG=rcf.convert_to_cover_fraction(DSG,inwaterfrac)\n",
    "SeafracSG=rcf.convert_to_cover_fraction(DSG,seafrac)"
   ]
  },
  {
   "cell_type": "markdown",
   "metadata": {},
   "source": [
    "## Open ECOCLIMAP II data"
   ]
  },
  {
   "cell_type": "code",
   "execution_count": 12,
   "metadata": {},
   "outputs": [],
   "source": [
    "latmax=55.5\n",
    "latmin=50.9\n",
    "lonmax=-5.4\n",
    "lonmin=-11\n",
    "\n",
    "fnameII='/mnt/g/ECOCLIMAP/open_ECOCLIMAP2.3/ECOCLIMAP_II_EUROP_V2.3.dir'\n",
    "(LATII,LONII,DII)=get_dataSG(fnameII,latmax,latmin,lonmax,lonmin)\n",
    "filenamecoverII='/mnt/g/ECOCLIMAP/ECOCLIMAP_II_cover_data.csv'\n",
    "(fieldnamesII,covernumII,covernameII,cityfracII,vegfracII,inwaterfracII,seafracII)=rcf.cover_fraction(filenamecoverII)\n",
    "#create fraction array \n",
    "TownfracII=rcf.convert_to_cover_fraction(DII,cityfracII)\n",
    "VegfracII=rcf.convert_to_cover_fraction(DII,vegfracII)\n",
    "InwfracII=rcf.convert_to_cover_fraction(DII,inwaterfracII)\n",
    "SeafracII=rcf.convert_to_cover_fraction(DII,seafracII)"
   ]
  },
  {
   "cell_type": "markdown",
   "metadata": {},
   "source": [
    "## Open and plot offline-surfex data"
   ]
  },
  {
   "cell_type": "code",
   "execution_count": 13,
   "metadata": {},
   "outputs": [],
   "source": [
    "Variableslist=['FRAC_SEA','FRAC_NATURE','FRAC_WATER','FRAC_TOWN','PATCH','Z0','Z0_TEB','Z0_ISBA']\n",
    "fnforc='/mnt/g/offline_surfex_MERA/FORCING.nc'\n",
    "fnSG='/home/geoffreybess/SURFEX/open_SURFEX_V8_1/MY_RUN/Eire/SURFOUT.20180618_07h00.nc'\n",
    "fneco2='/home/geoffreybess/SURFEX/open_SURFEX_V8_1/MY_RUN/Eireeco2/SURFOUT.20180618_07h00.nc'\n",
    "\n",
    "surfex_plot_ecosg_eco2(fnforc,fneco2,fnSG,Variableslist,latc=LAT,lonc=LON,extent=0.05,stationno=AIRPORT)"
   ]
  },
  {
   "cell_type": "markdown",
   "metadata": {},
   "source": [
    "## Plot fraction cover"
   ]
  },
  {
   "cell_type": "code",
   "execution_count": 14,
   "metadata": {},
   "outputs": [],
   "source": [
    "#Airports or station\n",
    "plot_ecosg_eco2_fraction(TownfracSG,LONSG,LATSG,TownfracII,LONII,LATII,latc=LAT,lonc=LON,extent=0.05,\n",
    "                         stationno=AIRPORT,LEG='Town Fraction',vname='Town_Fraction')\n",
    "plot_ecosg_eco2_fraction(VegfracSG,LONSG,LATSG,VegfracII,LONII,LATII,latc=LAT,lonc=LON,extent=0.05,\n",
    "                         stationno=AIRPORT,LEG='Nature Fraction',vname='Nature_Fraction')\n",
    "plot_ecosg_eco2_fraction(InwfracSG,LONSG,LATSG,InwfracII,LONII,LATII,latc=LAT,lonc=LON,extent=0.05,\n",
    "                         stationno=AIRPORT,LEG='Inland water Fraction',vname='Inland_water_Fraction')\n",
    "plot_ecosg_eco2_fraction(SeafracSG,LONSG,LATSG,SeafracII,LONII,LATII,latc=LAT,lonc=LON,extent=0.05,\n",
    "                         stationno=AIRPORT,LEG='Sea Fraction',vname='Sea_Fraction')\n",
    "\n",
    "\n",
    "#Nationwide\n",
    "plot_ecosg_eco2_fraction(TownfracSG,LONSG,LATSG,TownfracII,LONII,LATII,LEG='Town Fraction',vname='Town_Fraction')\n",
    "plot_ecosg_eco2_fraction(VegfracSG,LONSG,LATSG,VegfracII,LONII,LATII,LEG='Nature Fraction',vname='Nature_Fraction')\n",
    "plot_ecosg_eco2_fraction(InwfracSG,LONSG,LATSG,InwfracII,LONII,LATII,LEG='Inland water Fraction',vname='Inland_water_Fraction')\n",
    "plot_ecosg_eco2_fraction(SeafracSG,LONSG,LATSG,SeafracII,LONII,LATII,LEG='Sea Fraction',vname='Sea_Fraction')\n"
   ]
  },
  {
   "cell_type": "code",
   "execution_count": null,
   "metadata": {},
   "outputs": [],
   "source": []
  }
 ],
 "metadata": {
  "kernelspec": {
   "display_name": "Python 3",
   "language": "python",
   "name": "python3"
  },
  "language_info": {
   "codemirror_mode": {
    "name": "ipython",
    "version": 3
   },
   "file_extension": ".py",
   "mimetype": "text/x-python",
   "name": "python",
   "nbconvert_exporter": "python",
   "pygments_lexer": "ipython3",
   "version": "3.6.9"
  }
 },
 "nbformat": 4,
 "nbformat_minor": 4
}
