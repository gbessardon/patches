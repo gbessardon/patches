{
 "cells": [
  {
   "cell_type": "markdown",
   "metadata": {},
   "source": [
    "# Declare variables"
   ]
  },
  {
   "cell_type": "code",
   "execution_count": 1,
   "metadata": {},
   "outputs": [],
   "source": [
    "from osgeo import gdal\n",
    "import matplotlib.pyplot as plt\n",
    "import numpy as np\n",
    "import read_cover_fraction as rcf"
   ]
  },
  {
   "cell_type": "code",
   "execution_count": 2,
   "metadata": {},
   "outputs": [],
   "source": [
    "def get_dataSG(fname,latmax,latmin,lonmax,lonmin):\n",
    "\n",
    "    gdal.UseExceptions()\n",
    "    ds = gdal.Open(fname)\n",
    "    data = ds.ReadAsArray()\n",
    "    gt = ds.GetGeoTransform()\n",
    "    #\n",
    "    #\n",
    "    #\n",
    "    xres = gt[1]\n",
    "    yres = gt[5]\n",
    "    #\n",
    "    xmin = gt[0]\n",
    "    ymin = gt[3]\n",
    "    #\n",
    "    xmax = gt[0] + (xres * ds.RasterXSize)\n",
    "    ymax = gt[3] + (yres * ds.RasterYSize)\n",
    "#    else:\n",
    "#        xmax = gt[0] + (xres * ds.RasterXSize) \n",
    "#        ymax = gt[3] + (yres * ds.RasterYSize) \n",
    "\n",
    "\n",
    "    X=np.arange(xmin+xres,xmax+xres,xres)\n",
    "    Y=np.arange(ymin+yres,ymax+yres,yres)\n",
    "\n",
    "\n",
    "    #Chunck the data to save RAM for plotting\n",
    "    #Ydecreasing\n",
    "    b=np.min(np.where(Y<latmin)[0])\n",
    "    a=np.max(np.where(Y>latmax)[0])\n",
    "\n",
    "    c=np.max(np.where(X<lonmin)[0])\n",
    "    d=np.min(np.where(X>lonmax)[0])\n",
    "\n",
    "#    print(np.max(data))\n",
    "#    print(np.min(data))\n",
    "    #ECOCLIMAP data have no projections so no need to reproject the data\n",
    "    #to be verified for other datasets\n",
    "    LAT=Y[a:b]\n",
    "    LON=X[c:d]\n",
    "    D=data[a:b,c:d]\n",
    "\n",
    "    return (LAT,LON,D)"
   ]
  },
  {
   "cell_type": "code",
   "execution_count": 3,
   "metadata": {},
   "outputs": [],
   "source": [
    "#search the uniques cover values and creates a new coverlist using consecutive numbers\n",
    "#    DSG: the dataset\n",
    "#    covernum: cover number\n",
    "#    covername : name of the cover\n",
    "#    threshold : threshold to remove the cover with fewer points than the threshold (helps for clearer plot)\n",
    "def find_uniques_new_values_cover(DSG,covernum,covername,threshold):\n",
    "    uSG=np.unique(DSG)\n",
    "    DSG2=np.zeros(DSG.shape)-1\n",
    "    repeat=np.array([len(np.where(DSG==u)[0]) for u in uSG])\n",
    "    muSG=uSG[np.where(repeat>threshold)[0]]\n",
    "    uniqnames=[]\n",
    "    for i,mu in enumerate(muSG):\n",
    "        DSG2[np.where(DSG==mu)]=i*2\n",
    "        if u==0:\n",
    "            uniqnames.append('no data')\n",
    "        else:\n",
    "            indname=np.where(mu==covernum)[0]\n",
    "            uniqnames.append(covername[indname])\n",
    "            \n",
    "    D=np.ma.masked_where(DSG2==-1,DSG2)\n",
    "    return(D,muSG,uniqnames)\n",
    "# creates a colormap regarding the length of the unique cover values uSG\n",
    "# colorname: name of the desired colormap\n",
    "def set_colormap(uSG,colorname):\n",
    "    num_colors = len(uSG) \n",
    "    cm = plt.get_cmap(colorname) \n",
    "    scheme = [cm(i*1./num_colors) for i in range(num_colors)] \n",
    "#    bins = np.linspace(1, num_colors, num_colors)\n",
    "    col = ListedColormap(scheme)\n",
    "    return(col)\n",
    "    \n",
    "\n",
    "    \n",
    "def plot_data(LON,LAT,D2,col,uniqnames,figurename):\n",
    "    fig = plt.figure(figsize=(25, 25))\n",
    "    ax=fig.gca()\n",
    "    cp=plt.get_cmap(col,np.max(D2)-np.min(D2)+1)\n",
    "    c=ax.pcolormesh(LON,LAT,D2,cmap=cp, vmin=np.min(D2)-1,vmax=np.max(D2)+1)\n",
    "    cb=plt.colorbar(c, ticks=np.arange(np.min(D2),np.max(D2)+1),extendfrac='auto', spacing='proportional')\n",
    "#    cb.set_ticks([i for i in range(0, len(uniqnames))])  \n",
    "    cb.set_ticks([i for i in np.arange(0, 2*len(uniqnames)+1,2)]) \n",
    "    cb.set_ticklabels(uniqnames)\n",
    "    cb.ax.tick_params(labelsize=20)\n",
    "    ax.set_xlim(np.min(LON),np.max(LON))\n",
    "    ax.set_ylim(np.min(LAT),np.max(LAT))\n",
    "    ax.set_xlabel('Longitude',fontsize=20)\n",
    "    ax.set_ylabel('Latitude',fontsize=20)\n",
    "    ax.xaxis.set_tick_params(labelsize=20)\n",
    "    ax.yaxis.set_tick_params(labelsize=20)\n",
    "    fig.savefig(figurename,bbox_inches='tight',transparent=True)    \n",
    "    return\n",
    "    \n",
    "#fname the name of the dir file check if the header is ok \n",
    "#https://hirlam.org/trac/wiki/PGD\n",
    "\n",
    "\n",
    "latmax=55.5\n",
    "latmin=50.9\n",
    "lonmax=-5.4\n",
    "lonmin=-11\n",
    "\n",
    "fnameSG='/mnt/g/ECOCLIMAP/ECOCLIMAPSG/test_ecosg.tif'\n",
    "(LATSG,LONSG,DSG)=get_dataSG(fnameSG,latmax,latmin,lonmax,lonmin)\n",
    "covernamef='/mnt/g/ECOCLIMAP/ECOCLIMAPSG/ECOCLIMAP_SG_cover_data.csv'\n",
    "#get the cover deatils from the csvfile\n",
    "(fieldnames,covernum,covername,cityfrac,vegfrac,inwaterfrac,seafrac)=rcf.cover_fraction(covernamef)"
   ]
  },
  {
   "cell_type": "code",
   "execution_count": 4,
   "metadata": {},
   "outputs": [],
   "source": [
    "fnstation='/mnt/g/Stations_list.txt'\n",
    "data=open(fnstation,'r')"
   ]
  },
  {
   "cell_type": "code",
   "execution_count": 5,
   "metadata": {},
   "outputs": [],
   "source": [
    "lat=[]\n",
    "lon=[]\n",
    "for d in data:\n",
    "    lat.append(d.split(' ')[0].strip(' '))\n",
    "    lon.append(d.split(' ')[1].strip(' '))\n",
    "LAT=np.array(lat).astype(float)\n",
    "LON=np.array(lon).astype(float)"
   ]
  },
  {
   "cell_type": "code",
   "execution_count": 6,
   "metadata": {},
   "outputs": [],
   "source": [
    "Covname=[]"
   ]
  },
  {
   "cell_type": "code",
   "execution_count": 7,
   "metadata": {},
   "outputs": [],
   "source": [
    "for x,_ in enumerate(LAT):\n",
    "    idx=np.argmin(np.abs(LAT[x]-LATSG))\n",
    "    idy=np.argmin(np.abs(LON[x]-LONSG))\n",
    "    Covname.append(covername[int(DSG[idx,idy])-1])"
   ]
  },
  {
   "cell_type": "code",
   "execution_count": 8,
   "metadata": {},
   "outputs": [],
   "source": [
    "fneco='/mnt/g/ECOCLIMAP/ECOCLIMAPSG_Stations_list.txt'\n",
    "dataeco=open(fneco,'w')\n",
    "dataeco.write('LAT, LON, Cover\\n')\n",
    "for x,_ in enumerate(LAT):\n",
    "    dataeco.write(str(LAT[x])+', '+str(LON[x])+', '+Covname[x]+'\\n')\n",
    "dataeco.close()"
   ]
  },
  {
   "cell_type": "code",
   "execution_count": 9,
   "metadata": {},
   "outputs": [],
   "source": [
    "fnameII = '/mnt/g/ECOCLIMAP/open_ECOCLIMAP2.3/ECOCLIMAP_II_EUROP_V2.3.dir'\n",
    "(LATII,LONII,DII)=get_dataSG(fnameII,latmax,latmin,lonmax,lonmin)\n",
    "filenamecoverII='/mnt/g/ECOCLIMAP/ECOCLIMAP_II_cover_data.csv'\n",
    "(fieldnamesII,covernumII,covernameII,cityfracII,vegfracII,inwaterfracII,seafracII)=rcf.cover_fraction(filenamecoverII)"
   ]
  },
  {
   "cell_type": "code",
   "execution_count": 10,
   "metadata": {},
   "outputs": [],
   "source": [
    "CovnameII=[]\n",
    "for x,_ in enumerate(LAT):\n",
    "    idx=np.argmin(np.abs(LAT[x]-LATII))\n",
    "    idy=np.argmin(np.abs(LON[x]-LONII))\n",
    "    CovnameII.append(covernameII[int(DII[idx,idy])-1])"
   ]
  },
  {
   "cell_type": "code",
   "execution_count": 11,
   "metadata": {},
   "outputs": [],
   "source": [
    "fnII='/mnt/g/ECOCLIMAP/ECOCLIMAPII_Stations_list.txt'\n",
    "dataII=open(fnII,'w')\n",
    "dataII.write('LAT, LON, Cover\\n')\n",
    "for x,_ in enumerate(LAT):\n",
    "    dataII.write(str(LAT[x])+', '+str(LON[x])+', '+CovnameII[x]+'\\n')\n",
    "dataII.close()"
   ]
  },
  {
   "cell_type": "code",
   "execution_count": 12,
   "metadata": {},
   "outputs": [
    {
     "data": {
      "text/plain": [
       "'Sea and ocean'"
      ]
     },
     "execution_count": 12,
     "metadata": {},
     "output_type": "execute_result"
    }
   ],
   "source": [
    "covernameII[0]"
   ]
  },
  {
   "cell_type": "code",
   "execution_count": 13,
   "metadata": {},
   "outputs": [
    {
     "ename": "NameError",
     "evalue": "name 'u' is not defined",
     "output_type": "error",
     "traceback": [
      "\u001b[0;31m---------------------------------------------------------------------------\u001b[0m",
      "\u001b[0;31mNameError\u001b[0m                                 Traceback (most recent call last)",
      "\u001b[0;32m<ipython-input-13-1cd158558a40>\u001b[0m in \u001b[0;36m<module>\u001b[0;34m\u001b[0m\n\u001b[0;32m----> 1\u001b[0;31m \u001b[0;34m(\u001b[0m\u001b[0mDSG2\u001b[0m\u001b[0;34m,\u001b[0m\u001b[0muSG\u001b[0m\u001b[0;34m,\u001b[0m\u001b[0muniqnames\u001b[0m\u001b[0;34m)\u001b[0m\u001b[0;34m=\u001b[0m\u001b[0mfind_uniques_new_values_cover\u001b[0m\u001b[0;34m(\u001b[0m\u001b[0mDSG\u001b[0m\u001b[0;34m,\u001b[0m\u001b[0mcovernum\u001b[0m\u001b[0;34m,\u001b[0m\u001b[0mcovername\u001b[0m\u001b[0;34m,\u001b[0m\u001b[0;36m1\u001b[0m\u001b[0;34m)\u001b[0m\u001b[0;34m\u001b[0m\u001b[0;34m\u001b[0m\u001b[0m\n\u001b[0m",
      "\u001b[0;32m<ipython-input-3-28721a76be4b>\u001b[0m in \u001b[0;36mfind_uniques_new_values_cover\u001b[0;34m(DSG, covernum, covername, threshold)\u001b[0m\n\u001b[1;32m     12\u001b[0m     \u001b[0;32mfor\u001b[0m \u001b[0mi\u001b[0m\u001b[0;34m,\u001b[0m\u001b[0mmu\u001b[0m \u001b[0;32min\u001b[0m \u001b[0menumerate\u001b[0m\u001b[0;34m(\u001b[0m\u001b[0mmuSG\u001b[0m\u001b[0;34m)\u001b[0m\u001b[0;34m:\u001b[0m\u001b[0;34m\u001b[0m\u001b[0;34m\u001b[0m\u001b[0m\n\u001b[1;32m     13\u001b[0m         \u001b[0mDSG2\u001b[0m\u001b[0;34m[\u001b[0m\u001b[0mnp\u001b[0m\u001b[0;34m.\u001b[0m\u001b[0mwhere\u001b[0m\u001b[0;34m(\u001b[0m\u001b[0mDSG\u001b[0m\u001b[0;34m==\u001b[0m\u001b[0mmu\u001b[0m\u001b[0;34m)\u001b[0m\u001b[0;34m]\u001b[0m\u001b[0;34m=\u001b[0m\u001b[0mi\u001b[0m\u001b[0;34m*\u001b[0m\u001b[0;36m2\u001b[0m\u001b[0;34m\u001b[0m\u001b[0;34m\u001b[0m\u001b[0m\n\u001b[0;32m---> 14\u001b[0;31m         \u001b[0;32mif\u001b[0m \u001b[0mu\u001b[0m\u001b[0;34m==\u001b[0m\u001b[0;36m0\u001b[0m\u001b[0;34m:\u001b[0m\u001b[0;34m\u001b[0m\u001b[0;34m\u001b[0m\u001b[0m\n\u001b[0m\u001b[1;32m     15\u001b[0m             \u001b[0muniqnames\u001b[0m\u001b[0;34m.\u001b[0m\u001b[0mappend\u001b[0m\u001b[0;34m(\u001b[0m\u001b[0;34m'no data'\u001b[0m\u001b[0;34m)\u001b[0m\u001b[0;34m\u001b[0m\u001b[0;34m\u001b[0m\u001b[0m\n\u001b[1;32m     16\u001b[0m         \u001b[0;32melse\u001b[0m\u001b[0;34m:\u001b[0m\u001b[0;34m\u001b[0m\u001b[0;34m\u001b[0m\u001b[0m\n",
      "\u001b[0;31mNameError\u001b[0m: name 'u' is not defined"
     ]
    }
   ],
   "source": [
    "\n",
    "\n",
    "(DSG2,uSG,uniqnames)=find_uniques_new_values_cover(DSG,covernum,covername,1)"
   ]
  },
  {
   "cell_type": "code",
   "execution_count": null,
   "metadata": {},
   "outputs": [],
   "source": [
    "## MAnually created colorbar for ECOSG"
   ]
  },
  {
   "cell_type": "code",
   "execution_count": null,
   "metadata": {},
   "outputs": [],
   "source": [
    "a0=(0/255.0,0/255.0,0/255.0,255/255.0)## 0 value\n",
    "a=(0/255.0,0/255.0,128/255.0,255/255.0)##navy blue 1.sea    \n",
    "b=(0/255.0,0/255.0,205/255.0,255/255.0)## mediumblue 2.inland waters\n",
    "c=(0/255.0, 0/255.0, 255/255.0, 255/255.0) ##Blue 3.rivers\n",
    "d=(211/255.0,211/255.0,211/255.0,255/255.0)## lightgray 4.Bare land\n",
    "e=(169/255.0,169/255.0,169/255.0,255/255.0)## darkgray 5.Rocks\n",
    "f=(255/255.0,250/255.0,250/255.0,255/255.0) ## Snow 6.permanent snow\n",
    "g=(240/255.0,255/255.0,240/255.0,255/255.0)## Honeydew 7.boreal broadleaf deciduous\n",
    "h=(85/255.0,107/255.0,47/255.0,255/255.0)## darkolivegreen 8.temperate broadleaf deciduous\n",
    "ii=(154/255.0,205/255.0,50/255.0,255/255.0)## yellowgreen 9.tropical broadleaf deciduous\n",
    "k=(0/255.0,128/255.0,0/255.0,255/255.0)## green 10.temperate broadleaf evergreen\n",
    "l=(255/255.0,127/255.0,80/255.0,255/255.0)## coral 11. tropical broadleaf evergreen\n",
    "m=(160/255.0,82/255.0,45/255.0,255/255.0)## siena 12. boreal needleaf evergreen\n",
    "n=(34/255.0,139/255.0,34/255.0,255/255.0)## forest green 13.temperate needleleaf evergreen\n",
    "o= (188/255.0,143/255.0,143/255.0,255/255.0)## rosybrown 14. boreal needleleaf deciduous\n",
    "p=(205/255.0,133/255.0,63/255.0,255/255.0)## peru 15. shrubs\n",
    "q=(222/255.0,184/255.0,135/255.0,255/255.0)##  burlywood 16. boreal grassland\n",
    "r=(50/255.0,205/255.0,50/255.0,255/255.0)##limegreen 17 . temperate grassland\n",
    "s=(255/255.0,215/255.0,0/255.0,255/255.0) ##gold 18. tropical grassland\n",
    "t=(32/255.0,178/255.0,170/255.0,255/255.0)##lightseagreen 19.winter crop\n",
    "u=(173/255.0,255/255.0,47/255.0,255/255.0)##green yellow 20.summer crop\n",
    "v=(189/255.0,183/255.0,107/255.0,255/255.0)##darkkhaki 21. C4 crops\n",
    "w=(102/255.0,102/255.0,0/255.0,255/255.0)## Dark yellow3 22.flooded trees\n",
    "x=(46/255.0,139/255.0,87/255.0,255/255.0)## seagreen 23.flooded grassland\n",
    "y=(255/255.0,0/255.0,0/255.0,255/255.0)## 24. red LCZ1\n",
    "z=(255/255.0,30/255.0,0/255.0,255/255.0)## 25. red LCZ2\n",
    "a1=(255/255.0,60/255.0,0/255.0,255/255.0)## 26. red LCZ3\n",
    "b1=(255/255.0,90/255.0,0/255.0,255/255.0)## 27. red LCZ4\n",
    "c1=(255/255.0,120/255.0,0/255.0,255/255.0)## 28. red LCZ5\n",
    "d1=(255/255.0,150/255.0,0/255.0,255/255.0)## 29. red LCZ6\n",
    "e1=(255/255.0,180/255.0,0/255.0,255/255.0)## 30. red LCZ7\n",
    "f1=(255/255.0,210/255.0,0/255.0,255/255.0)## 31.red LCZ8\n",
    "g1=(255/255.0,240/255.0,0/255.0,255/255.0)## 32. red LCZ9\n",
    "h1=(128/255.0,128/255.0,128/255.0,255/255.0)## 33. gray LCZ10\n",
    "\n",
    "\n"
   ]
  },
  {
   "cell_type": "code",
   "execution_count": null,
   "metadata": {},
   "outputs": [],
   "source": [
    "scheme=[a0,a,b,c,d,e,f,g,h,ii,k,l,m,n,o,p,q,r,s,t,u,v,w,x,y,z,a1,b1,c1,d1,e1,f1,g1,h1]\n",
    "schemevalueSG=[scheme[cov] for cov in uSG]\n",
    "colSG = ListedColormap(schemevalueSG)\n",
    "plot_data(LONSG,LATSG,DSG2,colSG,uniqnames,'ECOSG_Cover.png')\n",
    "#\n",
    "\n",
    "(DII2,uII,uniqnamesII)=find_uniques_new_values_cover(DII,covernumII,covernameII,100)\n",
    "colII=set_colormap(uII,'jet')\n",
    "plot_data(LONII,LATII,DII2,colII,uniqnamesII,'ECOII_Cover.png')\n"
   ]
  },
  {
   "cell_type": "code",
   "execution_count": null,
   "metadata": {},
   "outputs": [],
   "source": []
  }
 ],
 "metadata": {
  "kernelspec": {
   "display_name": "Python 3",
   "language": "python",
   "name": "python3"
  },
  "language_info": {
   "codemirror_mode": {
    "name": "ipython",
    "version": 3
   },
   "file_extension": ".py",
   "mimetype": "text/x-python",
   "name": "python",
   "nbconvert_exporter": "python",
   "pygments_lexer": "ipython3",
   "version": "3.6.9"
  }
 },
 "nbformat": 4,
 "nbformat_minor": 4
}
