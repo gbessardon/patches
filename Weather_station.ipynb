{
 "cells": [
  {
   "cell_type": "markdown",
   "metadata": {},
   "source": [
    "# Declare libraries"
   ]
  },
  {
   "cell_type": "code",
   "execution_count": null,
   "metadata": {},
   "outputs": [],
   "source": [
    "from osgeo import gdal\n",
    "from matplotlib.colors import ListedColormap\n",
    "import matplotlib.pyplot as plt\n",
    "import numpy as np\n",
    "import read_cover_fraction as rcf"
   ]
  },
  {
   "cell_type": "markdown",
   "metadata": {},
   "source": [
    "# Declare functions"
   ]
  },
  {
   "cell_type": "markdown",
   "metadata": {},
   "source": [
    "## function to read the data"
   ]
  },
  {
   "cell_type": "code",
   "execution_count": null,
   "metadata": {},
   "outputs": [],
   "source": [
    "def get_dataSG(fname,latmax,latmin,lonmax,lonmin):\n",
    "\n",
    "    gdal.UseExceptions()\n",
    "    ds = gdal.Open(fname)\n",
    "    data = ds.ReadAsArray()\n",
    "    gt = ds.GetGeoTransform()\n",
    "    #\n",
    "    #\n",
    "    #\n",
    "    xres = gt[1]\n",
    "    yres = gt[5]\n",
    "    #\n",
    "    xmin = gt[0]\n",
    "    ymin = gt[3]\n",
    "    #\n",
    "    xmax = gt[0] + (xres * ds.RasterXSize)\n",
    "    ymax = gt[3] + (yres * ds.RasterYSize)\n",
    "#    else:\n",
    "#        xmax = gt[0] + (xres * ds.RasterXSize) \n",
    "#        ymax = gt[3] + (yres * ds.RasterYSize) \n",
    "\n",
    "\n",
    "    X=np.arange(xmin+xres,xmax+xres,xres)\n",
    "    Y=np.arange(ymin+yres,ymax+yres,yres)\n",
    "\n",
    "\n",
    "    #Chunck the data to save RAM for plotting\n",
    "    #Ydecreasing\n",
    "    b=np.min(np.where(Y<latmin)[0])\n",
    "    a=np.max(np.where(Y>latmax)[0])\n",
    "\n",
    "    c=np.max(np.where(X<lonmin)[0])\n",
    "    d=np.min(np.where(X>lonmax)[0])\n",
    "\n",
    "#    print(np.max(data))\n",
    "#    print(np.min(data))\n",
    "    #ECOCLIMAP data have no projections so no need to reproject the data\n",
    "    #to be verified for other datasets\n",
    "    LAT=Y[a:b]\n",
    "    LON=X[c:d]\n",
    "    D=data[a:b,c:d]\n",
    "\n",
    "    return (LAT,LON,D)"
   ]
  },
  {
   "cell_type": "markdown",
   "metadata": {},
   "source": [
    "## Read station coordinates function"
   ]
  },
  {
   "cell_type": "code",
   "execution_count": null,
   "metadata": {},
   "outputs": [],
   "source": [
    "def readstationcoordinate(fnstation):\n",
    "    data=open(fnstation,'r')\n",
    "    lat=[]\n",
    "    lon=[]\n",
    "    for d in data:\n",
    "        lat.append(d.split(' ')[0].strip(' '))\n",
    "        lon.append(d.split(' ')[1].strip(' '))\n",
    "    LAT=np.array(lat).astype(float)\n",
    "    LON=np.array(lon).astype(float)\n",
    "    return(LAT,LON)"
   ]
  },
  {
   "cell_type": "markdown",
   "metadata": {},
   "source": [
    "## Function to set correspondance between station and line in the csv files"
   ]
  },
  {
   "cell_type": "code",
   "execution_count": null,
   "metadata": {},
   "outputs": [],
   "source": [
    "def set_covernumber_station(LAT,LON,LATSG,LONSG,covernum,DSG):\n",
    "    Linenum=[]\n",
    "    for x,_ in enumerate(LAT):\n",
    "        idx=np.argmin(np.abs(LAT[x]-LATSG))\n",
    "        idy=np.argmin(np.abs(LON[x]-LONSG))\n",
    "        Linenum.append(np.where(covernum==int(DSG[idx,idy]))[0][0])\n",
    "    return (Linenum)"
   ]
  },
  {
   "cell_type": "markdown",
   "metadata": {},
   "source": [
    "## Write cover station text file"
   ]
  },
  {
   "cell_type": "code",
   "execution_count": null,
   "metadata": {},
   "outputs": [],
   "source": [
    "def write_txt_file_cover_station(fntxt,LAT,LON,Linenum,covernum,covername,cityfrac,vegfrac,inwaterfrac,seafrac):\n",
    "    data=open(fntxt,'w')\n",
    "    data.write('LAT, LON, Covernum, Covername, City fraction, Vegetation fraction, Inland water fraction, sea fraction\\n')\n",
    "    for x,_ in enumerate(LAT):\n",
    "        data.write(str(LAT[x])+', '+str(LON[x])+', '+str(covernum[Linenum[x]])+', '+covername[Linenum[x]]+', '+\n",
    "                   str(cityfrac[Linenum[x]])+', '+str(vegfrac[Linenum[x]])+', '+\n",
    "                   str(inwaterfrac[Linenum[x]])+', '+str(seafrac[Linenum[x]])+'\\n')\n",
    "    data.close()\n",
    "    return"
   ]
  },
  {
   "cell_type": "markdown",
   "metadata": {},
   "source": [
    "# MAIN "
   ]
  },
  {
   "cell_type": "markdown",
   "metadata": {},
   "source": [
    "## Airport station coordinate"
   ]
  },
  {
   "cell_type": "code",
   "execution_count": null,
   "metadata": {},
   "outputs": [],
   "source": [
    "#Cork airport\n",
    "corklat=51.842\n",
    "corklon=-8.485\n",
    "#Dublin airport\n",
    "dubalat=53.423 \n",
    "dubalon=-6.238\n",
    "#Knock airport\n",
    "Knlat=53.906\n",
    "Knlon=-8.817\n",
    "#Shannon airport\n",
    "Shlat=52.687\n",
    "Shlon=-8.917\n",
    "# Sligo airport\n",
    "Sllat=54.274\n",
    "Sllon=-8.592\n",
    "LAT=[corklat,dubalat,Knlat,Shlat,Sllat]\n",
    "LON=[corklon,dubalon,Knlon,Shlon,Sllat]"
   ]
  },
  {
   "cell_type": "markdown",
   "metadata": {},
   "source": [
    "## Open ECOCLIMAP-SG data"
   ]
  },
  {
   "cell_type": "code",
   "execution_count": null,
   "metadata": {},
   "outputs": [],
   "source": [
    "latmax=55.5\n",
    "latmin=50.9\n",
    "lonmax=-5.4\n",
    "lonmin=-11\n",
    "\n",
    "fnameSG='/mnt/g/ECOCLIMAP/ECOCLIMAPSG/ecosg_final_map.dir'\n",
    "(LATSG,LONSG,DSG)=get_dataSG(fnameSG,latmax,latmin,lonmax,lonmin)\n",
    "covernamef='/mnt/g/ECOCLIMAP/ECOCLIMAPSG/ECOCLIMAP_SG_cover_data.csv'\n",
    "#get the cover deatils from the csvfile\n",
    "(fieldnames,covernum,covername,cityfrac,vegfrac,inwaterfrac,seafrac)=rcf.cover_fraction(covernamef)"
   ]
  },
  {
   "cell_type": "markdown",
   "metadata": {},
   "source": [
    "## Open ECOCLIMAP II data"
   ]
  },
  {
   "cell_type": "code",
   "execution_count": null,
   "metadata": {},
   "outputs": [],
   "source": [
    "latmax=55.5\n",
    "latmin=50.9\n",
    "lonmax=-5.4\n",
    "lonmin=-11\n",
    "\n",
    "fnameII='/mnt/g/ECOCLIMAP/open_ECOCLIMAP2.3/ECOCLIMAP_II_EUROP_V2.3.dir'\n",
    "(LATII,LONII,DII)=get_dataSG(fnameII,latmax,latmin,lonmax,lonmin)\n",
    "filenamecoverII='/mnt/g/ECOCLIMAP/ECOCLIMAP_II_cover_data.csv'\n",
    "(fieldnamesII,covernumII,covernameII,cityfracII,vegfracII,inwaterfracII,seafracII)=rcf.cover_fraction(filenamecoverII)"
   ]
  },
  {
   "cell_type": "markdown",
   "metadata": {},
   "source": [
    "## Write ECOCLIMAP-SG station details"
   ]
  },
  {
   "cell_type": "code",
   "execution_count": null,
   "metadata": {},
   "outputs": [],
   "source": [
    "Linenum=set_covernumber_station(LAT,LON,LATSG,LONSG,covernum,DSG)\n",
    "fneco='/mnt/g/ECOCLIMAP/ECOCLIMAPSG_Stations_list.txt'\n",
    "write_txt_file_cover_station(fneco,LAT,LON,Linenum,covernum,covername,cityfrac,vegfrac,inwaterfrac,seafrac)"
   ]
  },
  {
   "cell_type": "markdown",
   "metadata": {},
   "source": [
    "## Write ECOCLIMAP II station details"
   ]
  },
  {
   "cell_type": "code",
   "execution_count": null,
   "metadata": {},
   "outputs": [],
   "source": [
    "LinenumII=set_covernumber_station(LAT,LON,LATII,LONII,covernumII,DII)\n",
    "fnII='/mnt/g/ECOCLIMAP/ECOCLIMAPII_Stations_list.txt'\n",
    "write_txt_file_cover_station(fnII,LAT,LON,LinenumII,covernumII,covernameII,cityfracII,vegfracII,inwaterfracII,seafracII)"
   ]
  },
  {
   "cell_type": "markdown",
   "metadata": {},
   "source": [
    "# Create ECOCLIMAP-SG colormap"
   ]
  },
  {
   "cell_type": "code",
   "execution_count": null,
   "metadata": {},
   "outputs": [],
   "source": [
    "a0=(0/255.0,0/255.0,0/255.0,255/255.0)## 0 value\n",
    "a=(0/255.0,0/255.0,128/255.0,255/255.0)##navy blue 1.sea    \n",
    "b=(0/255.0,0/255.0,205/255.0,255/255.0)## mediumblue 2.inland waters\n",
    "c=(0/255.0, 0/255.0, 255/255.0, 255/255.0) ##Blue 3.rivers\n",
    "d=(211/255.0,211/255.0,211/255.0,255/255.0)## lightgray 4.Bare land\n",
    "e=(169/255.0,169/255.0,169/255.0,255/255.0)## darkgray 5.Rocks\n",
    "f=(255/255.0,250/255.0,250/255.0,255/255.0) ## Snow 6.permanent snow\n",
    "g=(240/255.0,255/255.0,240/255.0,255/255.0)## Honeydew 7.boreal broadleaf deciduous\n",
    "h=(85/255.0,107/255.0,47/255.0,255/255.0)## darkolivegreen 8.temperate broadleaf deciduous\n",
    "ii=(154/255.0,205/255.0,50/255.0,255/255.0)## yellowgreen 9.tropical broadleaf deciduous\n",
    "k=(0/255.0,128/255.0,0/255.0,255/255.0)## green 10.temperate broadleaf evergreen\n",
    "l=(255/255.0,127/255.0,80/255.0,255/255.0)## coral 11. tropical broadleaf evergreen\n",
    "m=(160/255.0,82/255.0,45/255.0,255/255.0)## siena 12. boreal needleaf evergreen\n",
    "n=(34/255.0,139/255.0,34/255.0,255/255.0)## forest green 13.temperate needleleaf evergreen\n",
    "o= (188/255.0,143/255.0,143/255.0,255/255.0)## rosybrown 14. boreal needleleaf deciduous\n",
    "p=(205/255.0,133/255.0,63/255.0,255/255.0)## peru 15. shrubs\n",
    "q=(222/255.0,184/255.0,135/255.0,255/255.0)##  burlywood 16. boreal grassland\n",
    "r=(50/255.0,205/255.0,50/255.0,255/255.0)##limegreen 17 . temperate grassland\n",
    "s=(255/255.0,215/255.0,0/255.0,255/255.0) ##gold 18. tropical grassland\n",
    "t=(32/255.0,178/255.0,170/255.0,255/255.0)##lightseagreen 19.winter crop\n",
    "u=(173/255.0,255/255.0,47/255.0,255/255.0)##green yellow 20.summer crop\n",
    "v=(189/255.0,183/255.0,107/255.0,255/255.0)##darkkhaki 21. C4 crops\n",
    "w=(102/255.0,102/255.0,0/255.0,255/255.0)## Dark yellow3 22.flooded trees\n",
    "x=(46/255.0,139/255.0,87/255.0,255/255.0)## seagreen 23.flooded grassland\n",
    "y=(255/255.0,0/255.0,0/255.0,255/255.0)## 24. red LCZ1\n",
    "z=(255/255.0,30/255.0,0/255.0,255/255.0)## 25. red LCZ2\n",
    "a1=(255/255.0,60/255.0,0/255.0,255/255.0)## 26. red LCZ3\n",
    "b1=(255/255.0,90/255.0,0/255.0,255/255.0)## 27. red LCZ4\n",
    "c1=(255/255.0,120/255.0,0/255.0,255/255.0)## 28. red LCZ5\n",
    "d1=(255/255.0,150/255.0,0/255.0,255/255.0)## 29. red LCZ6\n",
    "e1=(255/255.0,180/255.0,0/255.0,255/255.0)## 30. red LCZ7\n",
    "f1=(255/255.0,210/255.0,0/255.0,255/255.0)## 31.red LCZ8\n",
    "g1=(255/255.0,240/255.0,0/255.0,255/255.0)## 32. red LCZ9\n",
    "h1=(128/255.0,128/255.0,128/255.0,255/255.0)## 33. gray LCZ10"
   ]
  },
  {
   "cell_type": "code",
   "execution_count": null,
   "metadata": {},
   "outputs": [],
   "source": [
    "scheme=[a0,a,b,c,d,e,f,g,h,ii,k,l,m,n,o,p,q,r,s,t,u,v,w,x,y,z,a1,b1,c1,d1,e1,f1,g1,h1]\n",
    "colSG = ListedColormap(scheme)\n",
    "uSG=np.unique(DSG)\n",
    "uniqnames=[]\n",
    "schemeSG=[]\n",
    "for u in uSG:\n",
    "    if u==0:\n",
    "        uniqnames.append('no data')\n",
    "        schemeSG.append(scheme[0])\n",
    "    else:\n",
    "        indname=np.where(u==covernum)[0][0]\n",
    "        uniqnames.append(covername[indname])\n",
    "        schemeSG.append(scheme[indname])"
   ]
  },
  {
   "cell_type": "markdown",
   "metadata": {},
   "source": [
    "# Plot data"
   ]
  },
  {
   "cell_type": "code",
   "execution_count": null,
   "metadata": {},
   "outputs": [],
   "source": [
    "fig = plt.figure(figsize=(25, 25))\n",
    "ax=fig.gca()\n",
    "c=ax.pcolormesh(LONSG,LATSG,DSG,cmap=colSG, vmin=np.min(DSG)-1,vmax=np.max(DSG)+1)\n",
    "sc=ax.scatter(LON,LAT,s=50,c='w')\n",
    "#cb=plt.colorbar(c, ticks=np.arange(np.min(DSG),np.max(DSG)+1),extendfrac='auto', spacing='proportional')\n",
    "#cb.set_ticks([i+1 for i in range(0, len(covername))])  \n",
    "#cb.set_ticklabels(covername)\n",
    "#cb.ax.tick_params(labelsize=20)\n",
    "#ax.set_xlim(np.min(LONSG),np.max(LONSG))\n",
    "#ax.set_ylim(np.min(LATSG),np.max(LATSG))\n",
    "#ax.set_xlabel('Longitude',fontsize=20)\n",
    "#ax.set_ylabel('Latitude',fontsize=20)\n",
    "#ax.xaxis.set_tick_params(labelsize=20)\n",
    "#ax.yaxis.set_tick_params(labelsize=20)    "
   ]
  },
  {
   "cell_type": "markdown",
   "metadata": {},
   "source": [
    "# little domains around station plots"
   ]
  },
  {
   "cell_type": "code",
   "execution_count": null,
   "metadata": {},
   "outputs": [],
   "source": [
    "fig, axes = plt.subplots(1, 5,figsize=(25, 25))\n",
    "for ax,j in zip(axes.ravel(),range(0,len(LAT))):\n",
    "        latmin=LAT[j]-0.05\n",
    "        latmax=LAT[j]+0.05\n",
    "        lonmin=LON[j]-0.05\n",
    "        lonmax=LON[j]+0.05\n",
    "        (LATsg,LONsg,Dsg)=get_dataSG(fnameSG,latmax,latmin,lonmax,lonmin)\n",
    "        c=ax.pcolormesh(LONsg,LATsg,Dsg,cmap=colSG, vmin=np.min(DSG)-1,vmax=np.max(DSG)+1)\n",
    "        sc=ax.scatter(LON[j],LAT[j],s=50,c='w')\n",
    "        ax.set_xlim(np.min(LONsg),np.max(LONsg))\n",
    "        ax.set_ylim(np.min(LATsg),np.max(LATsg))        \n",
    "        #ax.set_xlabel('Longitude',fontsize=20)\n",
    "        #ax.set_ylabel('Latitude',fontsize=20)\n",
    "cbar_ax = fig.add_axes([0.92, 0.15, 0.05, 0.7])\n",
    "cb=fig.colorbar(c, cax=cbar_ax, ticks=np.arange(np.min(DSG),np.max(DSG)+1),extendfrac='auto', spacing='proportional')   \n",
    "cb.set_ticks([i for i in np.arange(1, len(covername)+1,1)]) \n",
    "cb.set_ticklabels(covername)\n",
    "fig.savefig('ECOCLIMAP_airport.jpg')"
   ]
  },
  {
   "cell_type": "markdown",
   "metadata": {},
   "source": [
    "# Plot only dublin airport station"
   ]
  },
  {
   "cell_type": "code",
   "execution_count": null,
   "metadata": {},
   "outputs": [],
   "source": [
    "fig, ax = plt.subplots(figsize=(25, 25))\n",
    "dubalat=53.423 \n",
    "dubalon=-6.238\n",
    "latmin=dubalat-0.05\n",
    "latmax=dubalat+0.05\n",
    "lonmin=dubalon-0.05\n",
    "lonmax=dubalon+0.05\n",
    "(LATsg,LONsg,Dsg)=get_dataSG(fnameSG,latmax,latmin,lonmax,lonmin)\n",
    "c=ax.pcolormesh(LONsg,LATsg,Dsg,cmap=colSG, vmin=np.min(DSG)-1,vmax=np.max(DSG)+1)\n",
    "sc=ax.scatter(dubalon,dubalat,s=50,c='w')\n",
    "ax.set_xlim(np.min(LONsg),np.max(LONsg))\n",
    "ax.set_ylim(np.min(LATsg),np.max(LATsg))        \n",
    "cbar_ax = fig.add_axes([0.92, 0.15, 0.05, 0.7])\n",
    "cb=fig.colorbar(c, cax=cbar_ax, ticks=np.arange(np.min(DSG),np.max(DSG)+1),extendfrac='auto', spacing='proportional')   \n",
    "cb.set_ticks([i for i in np.arange(1, len(covername)+1,1)]) \n",
    "cb.set_ticklabels(covername)\n",
    "fig.savefig('ECOCLIMAPSG_dublinairport.jpg')"
   ]
  },
  {
   "cell_type": "code",
   "execution_count": null,
   "metadata": {},
   "outputs": [],
   "source": [
    "# removes ecoclimap values which do not appear for simplier plots\n",
    "def reduced_ecolimap(Dsg,covernameII,covernumII):\n",
    "    unv=np.unique(Dsg)\n",
    "    Dsg2=Dsg*0-1\n",
    "    covername2=[]\n",
    "    for i,u in enumerate(unv):\n",
    "        indices=np.where(Dsg==u)\n",
    "        Dsg2[indices]=i\n",
    "        covername2.append(covernameII[np.where(covernumII==u)[0][0]])\n",
    "    return(Dsg2,covername2)"
   ]
  },
  {
   "cell_type": "code",
   "execution_count": null,
   "metadata": {},
   "outputs": [],
   "source": [
    "a0=(0/255.0,0/255.0,0/255.0,255/255.0)## 0 value\n",
    "a=(0/255.0,0/255.0,128/255.0,255/255.0)##navy blue 1.sea    \n",
    "b=(0/255.0,0/255.0,205/255.0,255/255.0)## mediumblue 2.inland waters\n",
    "c=(0/255.0, 0/255.0, 255/255.0, 255/255.0) ##Blue 3.rivers\n",
    "d=(211/255.0,211/255.0,211/255.0,255/255.0)## lightgray 4.Bare land\n",
    "e=(169/255.0,169/255.0,169/255.0,255/255.0)## darkgray 5.Rocks\n",
    "f=(255/255.0,250/255.0,250/255.0,255/255.0) ## Snow 6.permanent snow\n",
    "g=(240/255.0,255/255.0,240/255.0,255/255.0)## Honeydew 7.boreal broadleaf deciduous\n",
    "h=(85/255.0,107/255.0,47/255.0,255/255.0)## darkolivegreen 8.temperate broadleaf deciduous\n",
    "ii=(154/255.0,205/255.0,50/255.0,255/255.0)## yellowgreen 9.tropical broadleaf deciduous\n",
    "k=(0/255.0,128/255.0,0/255.0,255/255.0)## green 10.temperate broadleaf evergreen\n",
    "l=(255/255.0,127/255.0,80/255.0,255/255.0)## coral 11. tropical broadleaf evergreen\n",
    "m=(160/255.0,82/255.0,45/255.0,255/255.0)## siena 12. boreal needleaf evergreen\n",
    "n=(34/255.0,139/255.0,34/255.0,255/255.0)## forest green 13.temperate needleleaf evergreen\n",
    "o= (188/255.0,143/255.0,143/255.0,255/255.0)## rosybrown 14. boreal needleleaf deciduous\n",
    "p=(205/255.0,133/255.0,63/255.0,255/255.0)## peru 15. shrubs\n",
    "q=(222/255.0,184/255.0,135/255.0,255/255.0)##  burlywood 16. boreal grassland\n",
    "r=(50/255.0,205/255.0,50/255.0,255/255.0)##limegreen 17 . temperate grassland\n",
    "s=(255/255.0,215/255.0,0/255.0,255/255.0) ##gold 18. tropical grassland\n",
    "t=(32/255.0,178/255.0,170/255.0,255/255.0)##lightseagreen 19.winter crop\n",
    "u=(173/255.0,255/255.0,47/255.0,255/255.0)##green yellow 20.summer crop\n",
    "v=(189/255.0,183/255.0,107/255.0,255/255.0)##darkkhaki 21. C4 crops\n",
    "w=(102/255.0,102/255.0,0/255.0,255/255.0)## Dark yellow3 22.flooded trees\n",
    "x=(46/255.0,139/255.0,87/255.0,255/255.0)## seagreen 23.flooded grassland\n",
    "y=(255/255.0,0/255.0,0/255.0,255/255.0)## 24. red LCZ1\n",
    "z=(255/255.0,30/255.0,0/255.0,255/255.0)## 25. red LCZ2\n",
    "a1=(255/255.0,60/255.0,0/255.0,255/255.0)## 26. red LCZ3\n",
    "b1=(255/255.0,90/255.0,0/255.0,255/255.0)## 27. red LCZ4\n",
    "c1=(255/255.0,120/255.0,0/255.0,255/255.0)## 28. red LCZ5\n",
    "d1=(255/255.0,150/255.0,0/255.0,255/255.0)## 29. red LCZ6\n",
    "e1=(255/255.0,180/255.0,0/255.0,255/255.0)## 30. red LCZ7\n",
    "f1=(255/255.0,210/255.0,0/255.0,255/255.0)## 31.red LCZ8\n",
    "g1=(255/255.0,240/255.0,0/255.0,255/255.0)## 32. red LCZ9\n",
    "h1=(128/255.0,128/255.0,128/255.0,255/255.0)## 33. gray LCZ10"
   ]
  },
  {
   "cell_type": "code",
   "execution_count": null,
   "metadata": {},
   "outputs": [],
   "source": [
    "# creates a colormap regarding the length of the unique covername\n",
    "# colorname: name of the desired colormap\n",
    "def set_colormap(covername,colorname):\n",
    "    num_colors = len(covername) \n",
    "    cm = plt.get_cmap(colorname) \n",
    "    scheme = [cm(i*1./num_colors) for i in range(num_colors)] \n",
    "#    bins = np.linspace(1, num_colors, num_colors)\n",
    "    col = ListedColormap(scheme)\n",
    "    return(col)"
   ]
  },
  {
   "cell_type": "code",
   "execution_count": null,
   "metadata": {},
   "outputs": [],
   "source": [
    "fig, ax = plt.subplots(figsize=(25, 25))\n",
    "dubalat=53.423 \n",
    "dubalon=-6.238\n",
    "latmin=dubalat-0.05\n",
    "latmax=dubalat+0.05\n",
    "lonmin=dubalon-0.05\n",
    "lonmax=dubalon+0.05\n",
    "(LATsg,LONsg,Dsg)=get_dataSG(fnameII,latmax,latmin,lonmax,lonmin)\n",
    "(Dsg2,covername2)=reduced_ecolimap(Dsg,covernameII,covernumII)\n",
    "colII=set_colormap(covername2,'terrain')\n",
    "c=ax.pcolormesh(LONsg,LATsg,Dsg2,cmap=colII, vmin=np.min(Dsg2),vmax=np.max(Dsg2))\n",
    "sc=ax.scatter(dubalon,dubalat,s=50,c='w')\n",
    "ax.set_xlim(np.min(LONsg),np.max(LONsg))\n",
    "ax.set_ylim(np.min(LATsg),np.max(LATsg))        \n",
    "cbar_ax = fig.add_axes([0.92, 0.15, 0.05, 0.7])\n",
    "cb=fig.colorbar(c, cax=cbar_ax, ticks=np.arange(np.min(Dsg2),np.max(Dsg2)-1,1),extendfrac='auto', spacing='proportional')   \n",
    "cb.set_ticks([i for i in np.arange(0, len(covername2)-1,1)]) \n",
    "cb.set_ticklabels(covername2)\n",
    "fig.savefig('ECOCLIMAP2_dublinairport.jpg')"
   ]
  },
  {
   "cell_type": "markdown",
   "metadata": {},
   "source": [
    "# open patches files"
   ]
  },
  {
   "cell_type": "markdown",
   "metadata": {},
   "source": [
    "## open grib patch info file"
   ]
  },
  {
   "cell_type": "code",
   "execution_count": null,
   "metadata": {},
   "outputs": [],
   "source": [
    "import pygrib\n",
    "patchgrib='/mnt/g/ECOCLIMAP/patch_info.grib'"
   ]
  },
  {
   "cell_type": "code",
   "execution_count": null,
   "metadata": {},
   "outputs": [],
   "source": [
    "grbs=pygrib.open(patchgrib)\n",
    "grb=grbs.message(1)\n",
    "data, lats, lons=grb.data()"
   ]
  },
  {
   "cell_type": "code",
   "execution_count": null,
   "metadata": {},
   "outputs": [],
   "source": [
    "fig = plt.figure(figsize=(25, 25))\n",
    "ax=fig.gca()\n",
    "c=ax.pcolormesh(lons,lats,data,cmap=plt.cm.jet,vmin=0,vmax=1)\n",
    "sc=ax.scatter(LON,LAT,s=50,c='w')\n",
    "ax.set_xlim(np.min(LONSG),np.max(LONSG))\n",
    "ax.set_ylim(np.min(LATSG),np.max(LATSG))\n",
    "cb=plt.colorbar(c)\n",
    "ax.set_xlabel('Longitude',fontsize=20)\n",
    "ax.set_ylabel('Latitude',fontsize=20)\n",
    "ax.xaxis.set_tick_params(labelsize=20)\n",
    "ax.yaxis.set_tick_params(labelsize=20)"
   ]
  },
  {
   "cell_type": "code",
   "execution_count": null,
   "metadata": {},
   "outputs": [],
   "source": [
    "fig, axes = plt.subplots(4, 5,figsize=(25, 25))\n",
    "for ax,j in zip(axes.ravel(),range(0,len(LAT))):\n",
    "        latmin=LAT[j]-0.5\n",
    "        latmax=LAT[j]+0.5\n",
    "        lonmin=LON[j]-0.5\n",
    "        lonmax=LON[j]+0.5\n",
    "        data, lats, lons = grb.data(lat1=latmin,lat2=latmax,lon1=lonmin,lon2=lonmax)\n",
    "        c=ax.scatter(lons,lats,c=data,s=100,marker='s',cmap=plt.cm.jet,vmin=0,vmax=1)\n",
    "        sc=ax.scatter(LON[j],LAT[j],s=100,c='w')\n",
    "        ax.set_xlim(np.min(lons),np.max(lons))\n",
    "        ax.set_ylim(np.min(lats),np.max(lats))        \n",
    "        #ax.set_xlabel('Longitude',fontsize=20)\n",
    "        #ax.set_ylabel('Latitude',fontsize=20)\n",
    "cbar_ax = fig.add_axes([0.92, 0.15, 0.05, 0.7])\n",
    "cb=fig.colorbar(c, cax=cbar_ax)  \n",
    "fig.savefig('patches_station.png')"
   ]
  },
  {
   "cell_type": "code",
   "execution_count": null,
   "metadata": {},
   "outputs": [],
   "source": [
    "grb.data()"
   ]
  },
  {
   "cell_type": "code",
   "execution_count": null,
   "metadata": {},
   "outputs": [],
   "source": [
    "data, lats, lons = grb.data(lat1=latmin,lat2=latmax,lon1=lonmin,lon2=lonmax)\n",
    "data.shape, lats.min(), lats.max(), lons.min(), lons.max()"
   ]
  },
  {
   "cell_type": "code",
   "execution_count": null,
   "metadata": {},
   "outputs": [],
   "source": [
    "plt.plot(lons)"
   ]
  },
  {
   "cell_type": "code",
   "execution_count": null,
   "metadata": {},
   "outputs": [],
   "source": []
  }
 ],
 "metadata": {
  "kernelspec": {
   "display_name": "Python 3",
   "language": "python",
   "name": "python3"
  },
  "language_info": {
   "codemirror_mode": {
    "name": "ipython",
    "version": 3
   },
   "file_extension": ".py",
   "mimetype": "text/x-python",
   "name": "python",
   "nbconvert_exporter": "python",
   "pygments_lexer": "ipython3",
   "version": "3.6.9"
  }
 },
 "nbformat": 4,
 "nbformat_minor": 4
}
