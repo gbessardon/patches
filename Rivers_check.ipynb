{
 "cells": [
  {
   "cell_type": "markdown",
   "metadata": {},
   "source": [
    "# Declare libraries"
   ]
  },
  {
   "cell_type": "code",
   "execution_count": 1,
   "metadata": {},
   "outputs": [],
   "source": [
    "from osgeo import gdal\n",
    "from matplotlib.colors import ListedColormap\n",
    "import matplotlib.pyplot as plt\n",
    "import numpy as np\n",
    "import read_cover_fraction as rcf\n",
    "from mpl_toolkits.basemap import Basemap\n",
    "import numpy as np\n",
    "import shapefile as shp\n",
    "from pyproj import Proj"
   ]
  },
  {
   "cell_type": "markdown",
   "metadata": {},
   "source": [
    "# Declare functions"
   ]
  },
  {
   "cell_type": "markdown",
   "metadata": {},
   "source": [
    "## function to read the data"
   ]
  },
  {
   "cell_type": "code",
   "execution_count": 2,
   "metadata": {},
   "outputs": [],
   "source": [
    "def get_dataSG(fname,latmax,latmin,lonmax,lonmin):\n",
    "\n",
    "    gdal.UseExceptions()\n",
    "    ds = gdal.Open(fname)\n",
    "    data = ds.ReadAsArray()\n",
    "    gt = ds.GetGeoTransform()\n",
    "    #\n",
    "    #\n",
    "    #\n",
    "    xres = gt[1]\n",
    "    yres = gt[5]\n",
    "    #\n",
    "    xmin = gt[0]\n",
    "    ymin = gt[3]\n",
    "    #\n",
    "    xmax = gt[0] + (xres * ds.RasterXSize)\n",
    "    ymax = gt[3] + (yres * ds.RasterYSize)\n",
    "\n",
    "\n",
    "    X=np.arange(xmin+xres,xmax+xres,xres)\n",
    "    Y=np.arange(ymin+yres,ymax+yres,yres)\n",
    "\n",
    "\n",
    "    #Chunck the data to save RAM for plotting\n",
    "    #Ydecreasing\n",
    "    b=np.min(np.where(Y<latmin)[0])\n",
    "    a=np.max(np.where(Y>latmax)[0])\n",
    "\n",
    "    c=np.max(np.where(X<lonmin)[0])\n",
    "    d=np.min(np.where(X>lonmax)[0])\n",
    "\n",
    "#    print(np.max(data))\n",
    "#    print(np.min(data))\n",
    "    #ECOCLIMAP data have no projections so no need to reproject the data\n",
    "    #to be verified for other datasets\n",
    "    LAT=Y[a:b]\n",
    "    LON=X[c:d]\n",
    "    D=data[a:b,c:d]\n",
    "\n",
    "    return (LAT,LON,D)"
   ]
  },
  {
   "cell_type": "markdown",
   "metadata": {},
   "source": [
    "## Read station coordinates function"
   ]
  },
  {
   "cell_type": "code",
   "execution_count": 3,
   "metadata": {},
   "outputs": [],
   "source": [
    "def readstationcoordinate(fnstation):\n",
    "    data=open(fnstation,'r')\n",
    "    lat=[]\n",
    "    lon=[]\n",
    "    for d in data:\n",
    "        if 'Latitude' not in d:\n",
    "            c=d.strip(' ').split(' ')\n",
    "            lat.append(c[0])\n",
    "            lon.append(c[len(c)-1])\n",
    "    LAT=np.array(lat).astype(float)\n",
    "    LON=np.array(lon).astype(float)\n",
    "    return(LAT,LON)"
   ]
  },
  {
   "cell_type": "markdown",
   "metadata": {},
   "source": [
    "## Function to set correspondance between coastline and line in the csv files"
   ]
  },
  {
   "cell_type": "code",
   "execution_count": 4,
   "metadata": {},
   "outputs": [],
   "source": [
    "def set_covernumber_station(LAT,LON,LATSG,LONSG,covernum,DSG):\n",
    "    Linenum=[]\n",
    "    indicelat=[]\n",
    "    indicelon=[]\n",
    "    for x,_ in enumerate(LAT):\n",
    "        idx=np.argmin(np.abs(LAT[x]-LATSG))\n",
    "        idy=np.argmin(np.abs(LON[x]-LONSG))\n",
    "        Linenum.append(np.where(covernum==int(DSG[idx,idy]))[0][0])\n",
    "        indicelat.append(idx)\n",
    "        indicelon.append(idy)\n",
    "    return (Linenum,indicelon,indicelat)"
   ]
  },
  {
   "cell_type": "markdown",
   "metadata": {},
   "source": [
    "## Write cover station text file"
   ]
  },
  {
   "cell_type": "code",
   "execution_count": 5,
   "metadata": {},
   "outputs": [],
   "source": [
    "def write_txt_file_cover_station(fntxt,LAT,LON,Linenum,covernum,covername,cityfrac,vegfrac,inwaterfrac,seafrac):\n",
    "    data=open(fntxt,'w')\n",
    "    data.write('LAT, LON, Covernum, Covername, City fraction, Vegetation fraction, Inland water fraction, sea fraction\\n')\n",
    "    for x,_ in enumerate(LAT):\n",
    "        data.write(str(LAT[x])+', '+str(LON[x])+', '+str(covernum[Linenum[x]])+', '+covername[Linenum[x]]+', '+\n",
    "                   str(cityfrac[Linenum[x]])+', '+str(vegfrac[Linenum[x]])+', '+\n",
    "                   str(inwaterfrac[Linenum[x]])+', '+str(seafrac[Linenum[x]])+'\\n')\n",
    "    data.close()\n",
    "    return"
   ]
  },
  {
   "cell_type": "markdown",
   "metadata": {},
   "source": [
    "# Function to calculate distance between LAT, LON points"
   ]
  },
  {
   "cell_type": "code",
   "execution_count": 6,
   "metadata": {},
   "outputs": [],
   "source": [
    "def distance_latlon(lat2,lon2,latref,lonref):\n",
    "    R = 6373.0 *1000 # radius of the Earth\n",
    "\n",
    "    dlon = np.deg2rad(lon2) - np.deg2rad(lonref) #change in coordinates\n",
    "\n",
    "    dlat = np.deg2rad(lat2) - np.deg2rad(latref)\n",
    "\n",
    "    a = np.sin(dlat / 2)**2 + np.cos(np.deg2rad(latref)) * np.cos(np.deg2rad(lat2)) * np.sin(dlon / 2)**2 #Haversine formula\n",
    "\n",
    "    c = 2 * np.arctan2(np.sqrt(a), np.sqrt(1 - a))\n",
    "    distance = R * c\n",
    "    return (distance)   "
   ]
  },
  {
   "cell_type": "markdown",
   "metadata": {},
   "source": [
    "# MAIN "
   ]
  },
  {
   "cell_type": "markdown",
   "metadata": {},
   "source": [
    "### Open river data"
   ]
  },
  {
   "cell_type": "code",
   "execution_count": 36,
   "metadata": {},
   "outputs": [],
   "source": [
    "import shapefile as shp\n",
    "\n",
    "def read_shapefile(sf):\n",
    "    #fetching the headings from the shape file\n",
    "    fields = [x[0] for x in sf.fields][1:]\n",
    "\n",
    "#fetching the records from the shape file\n",
    "    records = [list(i) for i in sf.records()]\n",
    "    shps = [s.points for s in sf.shapes()]\n",
    "    names = [r[3] for r in records]\n",
    "    asso_unit = [r[1] for r in records]\n",
    "\n",
    "##converting shapefile data into pandas dataframe\n",
    "#    df = pd.DataFrame(columns=fields, data=records)\n",
    "#\n",
    "##assigning the coordinates\n",
    "#    df = df.assign(coords=shps)\n",
    "    return fields,records,shps, names, asso_unit"
   ]
  },
  {
   "cell_type": "code",
   "execution_count": 37,
   "metadata": {},
   "outputs": [],
   "source": [
    "from osgeo import gdal,ogr\n",
    "daShapefile='/mnt/g/RiversandLakes_06022020/Rivers&Lakes/Shapefiles/WATER_RivNetRoutes.shp'\n",
    "driverName = \"ESRI Shapefile\"\n",
    "drv=ogr.GetDriverByName( driverName )\n",
    "dataSource = driver.Open(daShapefile, 0)\n",
    "layer = dataSource.GetLayer()\n",
    "\n",
    "\n",
    "#read the shapefile\n",
    "sf=shp.Reader(daShapefile)    \n",
    "fields,records,shps, names,asso_unit = read_shapefile(sf)\n",
    "indices=np.arange(0,len(names)-1)"
   ]
  },
  {
   "cell_type": "code",
   "execution_count": null,
   "metadata": {},
   "outputs": [],
   "source": [
    "\n",
    "    \n",
    "\n",
    "\n",
    "def plt_map_fill(idi,sf,cmapname,figname,sizefig,names) :\n",
    "    Names=np.array(names)\n",
    "    Nu=np.unique(Names)    \n",
    "    \n",
    "    \n",
    "    fig = plt.figure(figsize=sizefig)\n",
    "    ax1=fig.gca()\n",
    "    m = Basemap(projection='tmerc', lon_0=-8, lat_0=53.5,llcrnrlon=-11.7,llcrnrlat=51.1,\n",
    "                urcrnrlat=55.5,urcrnrlon=-5,resolution='f',ax=ax1)\n",
    "    m.drawcountries()\n",
    "    m.drawcoastlines(linewidth=.5)\n",
    "    m.drawmeridians(np.arange(-10,-6,2),color='k', linewidth=1.0)\n",
    "    m.drawparallels(np.arange(53,56,1),color='k', linewidth=1.0)\n",
    "    colorsmap=plt.get_cmap(cmapname,len(Nu)) \n",
    "    \n",
    "    for j,i in enumerate(idi) :\n",
    "        shape_ex = sf.shape(i)\n",
    "        x_lon = np.zeros((len(shape_ex.points),1))\n",
    "        y_lat = np.zeros((len(shape_ex.points),1))\n",
    "        for ip in range(len(shape_ex.points)):\n",
    "            x_lon[ip] = shape_ex.points[ip][0]\n",
    "            y_lat[ip] = shape_ex.points[ip][1]\n",
    "        lons,lats=pnyc(x_lon,y_lat,inverse=True)\n",
    "        X,Y=m(lons,lats)\n",
    "        plt.fill(X,Y,color=colorsmap(j))\n",
    "    plt.legend(P,names)\n",
    "    plt.savefig(figname)    \n",
    "    return\n",
    "    \n",
    "#fn='/home/gbessardon/CORINE2018/CLC18_IE_ITM/CLC18_IE_ITM.shp'\n",
    "fn='/home/gbessardon/national_soils/SOIL_SISNationalSoils_shp/Data/SOIL_SISNationalSoils_Shp/SOIL_SISNationalSoils.shp'\n",
    "#read the shapefile\n",
    "sf=shp.Reader(fn)    \n",
    "fields,records,shps, names,asso_unit = read_shapefile(sf)\n",
    "indices=np.arange(0,len(names)-1)\n",
    "#generates a function to convert the prjected data (needs a function to read it in the Readme.txt)\n",
    "pnyc = Proj(proj='tmerc',ellps='GRS80',lat_0=53.5,lon_0=-8, x_0=200000, y_0=250000, k_0=1.000035)\n",
    "#+a \tSemimajor radius of the ellipsoid axis\n",
    "#+axis \tAxis orientation\n",
    "#+b \tSemiminor radius of the ellipsoid axis\n",
    "#+ellps \tEllipsoid name (see proj -le)\n",
    "#+k \tScaling factor (deprecated)\n",
    "#+k_0 \tScaling factor\n",
    "#+lat_0 \tLatitude of origin\n",
    "#+lon_0 \tCentral meridian\n",
    "#+lon_wrap \tCenter longitude to use for wrapping (see below)\n",
    "#+over \tAllow longitude output outside -180 to 180 range, disables wrapping (see below)\n",
    "#+pm \tAlternate prime meridian (typically a city name, see below)\n",
    "#+proj \tProjection name (see proj -l)\n",
    "#+units \tmeters, US survey feet, etc.\n",
    "#+vunits \tvertical units.\n",
    "#+x_0 \tFalse easting\n",
    "#+y_0 \tFalse northing\n",
    "Names=np.array(names)\n",
    "Nu=np.unique(Names)\n",
    "colorsmap=plt.get_cmap('terrain_r',len(Nu))\n",
    "fig = plt.figure(figsize=(40,60))\n",
    "ax1=fig.gca()\n",
    "m = Basemap(projection='tmerc', lon_0=-8, lat_0=53.5,llcrnrlon=-11.7,llcrnrlat=51.1,\n",
    "            urcrnrlat=55.5,urcrnrlon=-5,resolution='f',ax=ax1)\n",
    "m.drawcountries()\n",
    "m.drawcoastlines(linewidth=.5)\n",
    "m.drawmeridians(np.arange(-10,-6,2),color='k', linewidth=1.0)\n",
    "m.drawparallels(np.arange(53,56,1),color='k', linewidth=1.0)\n",
    "P=np.zeros(len(Nu))\n",
    "for nb,n in enumerate(Nu):\n",
    "    idi=np.where(Names==Nu[0])[0]\n",
    "    for j,i in enumerate(idi) :\n",
    "        shape_ex = sf.shape(i)\n",
    "        x_lon = np.zeros((len(shape_ex.points),1))\n",
    "        y_lat = np.zeros((len(shape_ex.points),1))\n",
    "        for ip in range(len(shape_ex.points)):\n",
    "            x_lon[ip] = shape_ex.points[ip][0]\n",
    "            y_lat[ip] = shape_ex.points[ip][1]\n",
    "        "
   ]
  },
  {
   "cell_type": "code",
   "execution_count": 21,
   "metadata": {},
   "outputs": [],
   "source": [
    "L=dataSource.GetLayer()\n",
    "spatialRef = L.GetSpatialRef()\n",
    "extent=L.GetExtent()\n"
   ]
  },
  {
   "cell_type": "code",
   "execution_count": 26,
   "metadata": {},
   "outputs": [],
   "source": [
    "F=L.GetFeature(0)"
   ]
  },
  {
   "cell_type": "code",
   "execution_count": 31,
   "metadata": {},
   "outputs": [
    {
     "data": {
      "text/plain": [
       "350347"
      ]
     },
     "execution_count": 31,
     "metadata": {},
     "output_type": "execute_result"
    }
   ],
   "source": [
    "F.GetField(0)"
   ]
  },
  {
   "cell_type": "code",
   "execution_count": 9,
   "metadata": {},
   "outputs": [
    {
     "data": {
      "text/plain": [
       "'+proj=tmerc +lat_0=53.5 +lon_0=-8 +k=1.000035 +x_0=200000 +y_0=250000 +a=6377340.189 +rf=299.3249646 +towgs84=482.5,-130.6,564.6,-1.042,-0.214,-0.631,8.15 +units=m +no_defs'"
      ]
     },
     "execution_count": 9,
     "metadata": {},
     "output_type": "execute_result"
    }
   ],
   "source": [
    "spatialRef.ExportToProj4()"
   ]
  },
  {
   "cell_type": "code",
   "execution_count": 10,
   "metadata": {},
   "outputs": [],
   "source": [
    "Fe=L.GetFeature"
   ]
  },
  {
   "cell_type": "code",
   "execution_count": 32,
   "metadata": {},
   "outputs": [],
   "source": [
    "from osgeo import gdal"
   ]
  },
  {
   "cell_type": "code",
   "execution_count": 33,
   "metadata": {},
   "outputs": [],
   "source": [
    "gdal.Open(f)"
   ]
  },
  {
   "cell_type": "markdown",
   "metadata": {},
   "source": [
    "## Open ECOCLIMAP-SG data"
   ]
  },
  {
   "cell_type": "code",
   "execution_count": null,
   "metadata": {},
   "outputs": [],
   "source": [
    "latmax=55.5\n",
    "latmin=50.9\n",
    "lonmax=-5.4\n",
    "lonmin=-11\n",
    "\n",
    "fnameSG='/mnt/g/ECOCLIMAP/ECOCLIMAPSG/ecosg_final_map.dir'\n",
    "(LATSG,LONSG,DSG)=get_dataSG(fnameSG,latmax,latmin,lonmax,lonmin)\n",
    "covernamef='/mnt/g/ECOCLIMAP/ECOCLIMAPSG/ECOCLIMAP_SG_cover_data.csv'\n",
    "#get the cover deatils from the csvfile\n",
    "(fieldnames,covernum,covername,cityfrac,vegfrac,inwaterfrac,seafrac)=rcf.cover_fraction(covernamef)"
   ]
  },
  {
   "cell_type": "code",
   "execution_count": null,
   "metadata": {},
   "outputs": [],
   "source": []
  },
  {
   "cell_type": "markdown",
   "metadata": {},
   "source": [
    "# Create ECOCLIMAP-SG colormap"
   ]
  },
  {
   "cell_type": "code",
   "execution_count": null,
   "metadata": {},
   "outputs": [],
   "source": [
    "a0=(0/255.0,0/255.0,0/255.0,255/255.0)## 0 value\n",
    "a=(0/255.0,0/255.0,128/255.0,255/255.0)##navy blue 1.sea    \n",
    "b=(0/255.0,0/255.0,205/255.0,255/255.0)## mediumblue 2.inland waters\n",
    "c=(0/255.0, 0/255.0, 255/255.0, 255/255.0) ##Blue 3.rivers\n",
    "d=(211/255.0,211/255.0,211/255.0,255/255.0)## lightgray 4.Bare land\n",
    "e=(169/255.0,169/255.0,169/255.0,255/255.0)## darkgray 5.Rocks\n",
    "f=(255/255.0,250/255.0,250/255.0,255/255.0) ## Snow 6.permanent snow\n",
    "g=(240/255.0,255/255.0,240/255.0,255/255.0)## Honeydew 7.boreal broadleaf deciduous\n",
    "h=(85/255.0,107/255.0,47/255.0,255/255.0)## darkolivegreen 8.temperate broadleaf deciduous\n",
    "ii=(154/255.0,205/255.0,50/255.0,255/255.0)## yellowgreen 9.tropical broadleaf deciduous\n",
    "k=(0/255.0,128/255.0,0/255.0,255/255.0)## green 10.temperate broadleaf evergreen\n",
    "l=(255/255.0,127/255.0,80/255.0,255/255.0)## coral 11. tropical broadleaf evergreen\n",
    "m=(160/255.0,82/255.0,45/255.0,255/255.0)## siena 12. boreal needleaf evergreen\n",
    "n=(34/255.0,139/255.0,34/255.0,255/255.0)## forest green 13.temperate needleleaf evergreen\n",
    "o= (188/255.0,143/255.0,143/255.0,255/255.0)## rosybrown 14. boreal needleleaf deciduous\n",
    "p=(205/255.0,133/255.0,63/255.0,255/255.0)## peru 15. shrubs\n",
    "q=(222/255.0,184/255.0,135/255.0,255/255.0)##  burlywood 16. boreal grassland\n",
    "r=(50/255.0,205/255.0,50/255.0,255/255.0)##limegreen 17 . temperate grassland\n",
    "s=(255/255.0,215/255.0,0/255.0,255/255.0) ##gold 18. tropical grassland\n",
    "t=(32/255.0,178/255.0,170/255.0,255/255.0)##lightseagreen 19.winter crop\n",
    "u=(173/255.0,255/255.0,47/255.0,255/255.0)##green yellow 20.summer crop\n",
    "v=(189/255.0,183/255.0,107/255.0,255/255.0)##darkkhaki 21. C4 crops\n",
    "w=(102/255.0,102/255.0,0/255.0,255/255.0)## Dark yellow3 22.flooded trees\n",
    "x=(46/255.0,139/255.0,87/255.0,255/255.0)## seagreen 23.flooded grassland\n",
    "y=(255/255.0,0/255.0,0/255.0,255/255.0)## 24. red LCZ1\n",
    "z=(255/255.0,30/255.0,0/255.0,255/255.0)## 25. red LCZ2\n",
    "a1=(255/255.0,60/255.0,0/255.0,255/255.0)## 26. red LCZ3\n",
    "b1=(255/255.0,90/255.0,0/255.0,255/255.0)## 27. red LCZ4\n",
    "c1=(255/255.0,120/255.0,0/255.0,255/255.0)## 28. red LCZ5\n",
    "d1=(255/255.0,150/255.0,0/255.0,255/255.0)## 29. red LCZ6\n",
    "e1=(255/255.0,180/255.0,0/255.0,255/255.0)## 30. red LCZ7\n",
    "f1=(255/255.0,210/255.0,0/255.0,255/255.0)## 31.red LCZ8\n",
    "g1=(255/255.0,240/255.0,0/255.0,255/255.0)## 32. red LCZ9\n",
    "h1=(128/255.0,128/255.0,128/255.0,255/255.0)## 33. gray LCZ10"
   ]
  },
  {
   "cell_type": "code",
   "execution_count": null,
   "metadata": {},
   "outputs": [],
   "source": [
    "scheme=[a0,a,b,c,d,e,f,g,h,ii,k,l,m,n,o,p,q,r,s,t,u,v,w,x,y,z,a1,b1,c1,d1,e1,f1,g1,h1]\n",
    "colSG = ListedColormap(scheme)\n",
    "uSG=np.unique(DSG)\n",
    "uniqnames=[]\n",
    "schemeSG=[]\n",
    "for u in uSG:\n",
    "    if u==0:\n",
    "        uniqnames.append('no data')\n",
    "        schemeSG.append(scheme[0])\n",
    "    else:\n",
    "        indname=np.where(u==covernum)[0][0]\n",
    "        uniqnames.append(covername[indname])\n",
    "        schemeSG.append(scheme[indname])"
   ]
  },
  {
   "cell_type": "markdown",
   "metadata": {},
   "source": [
    "# Plot data"
   ]
  },
  {
   "cell_type": "code",
   "execution_count": null,
   "metadata": {},
   "outputs": [],
   "source": [
    "fig = plt.figure(figsize=(25, 25))\n",
    "ax=fig.gca()\n",
    "c=ax.pcolormesh(LONSG,LATSG,DSG,cmap=colSG, vmin=np.min(DSG)-1,vmax=np.max(DSG)+1)\n",
    "sc=ax.scatter(LON,LAT,s=30,c='w')\n",
    "cb=plt.colorbar(c, ticks=np.arange(np.min(DSG),np.max(DSG)+1),extendfrac='auto', spacing='proportional')\n",
    "cb.set_ticks([i+1 for i in range(0, len(covername))])  \n",
    "cb.set_ticklabels(covername)\n",
    "cb.ax.tick_params(labelsize=20)\n",
    "ax.set_xlim(np.min(LONSG),np.max(LONSG))\n",
    "ax.set_ylim(np.min(LATSG),np.max(LATSG))\n",
    "ax.set_xlabel('Longitude',fontsize=20)\n",
    "ax.set_ylabel('Latitude',fontsize=20)\n",
    "ax.xaxis.set_tick_params(labelsize=20)\n",
    "ax.yaxis.set_tick_params(labelsize=20)\n",
    "fig.savefig('Coastline.png')"
   ]
  },
  {
   "cell_type": "markdown",
   "metadata": {},
   "source": [
    "### ECOCLIMAP coastline is globally respecting Ireland's coastline well, the following is testing ECOCLIMAP coastline in details. Note that the coastline data surrounds the largest inland water bodies but not all, future test are required to test the inland water bodies and rivers representation in ECOCLIMAP."
   ]
  },
  {
   "cell_type": "markdown",
   "metadata": {},
   "source": [
    "## Statistics coastlines"
   ]
  },
  {
   "cell_type": "markdown",
   "metadata": {},
   "source": [
    "### Cover coastline cover distribution"
   ]
  },
  {
   "cell_type": "code",
   "execution_count": null,
   "metadata": {},
   "outputs": [],
   "source": [
    "ucoast=np.unique(covernum[Linenum]) # look for all unique cover number on the coastline\n",
    "sizes=[len(np.where(u==covernum[Linenum])[0]) for u in ucoast] # get how many times this number appears\n",
    "labels=[covername[np.where(u==covernum)[0][0]] for u in ucoast] # get the covername corresponding to the number"
   ]
  },
  {
   "cell_type": "code",
   "execution_count": null,
   "metadata": {},
   "outputs": [],
   "source": [
    "threshold=5 # set up a % threshold to simplify the pie chart \n",
    "A=np.array(sizes)\n",
    "S=np.sum(A)\n",
    "R=100.0*A/S\n",
    "indsave=np.where(R>5)[0]\n",
    "indothers=np.where(R<=5)[0]"
   ]
  },
  {
   "cell_type": "code",
   "execution_count": null,
   "metadata": {},
   "outputs": [],
   "source": [
    "Sothers=np.sum(np.array([sizes[io] for io in indothers]))\n",
    "sizenew=[A[ids] for ids in indsave]\n",
    "sizenew.append(Sothers)\n",
    "labelsnew=[labels[ids] for ids in indsave]\n",
    "labelsnew.append('Others')"
   ]
  },
  {
   "cell_type": "code",
   "execution_count": null,
   "metadata": {},
   "outputs": [],
   "source": [
    "fig, ax = plt.subplots(figsize=(50,50), subplot_kw=dict(aspect=\"equal\"))\n",
    "\n",
    "indices=np.argsort(sizenew)\n",
    "data = [sizenew[id] for id in indices]\n",
    "ingredients = [labelsnew[id] for id in indices]\n",
    "\n",
    "wedges, texts, autotexts = ax.pie(data, autopct='%1.1f%%')\n",
    "\n",
    "leg=ax.legend(wedges, ingredients,\n",
    "          title=\"Covers\",\n",
    "          loc=\"center left\",\n",
    "          bbox_to_anchor=(1, 0, 0.5, 1),\n",
    "          fontsize=30)\n",
    "plt.setp(leg.get_title(),fontsize=30)\n",
    "plt.setp(autotexts, size=30, weight=\"bold\")\n",
    "\n",
    "\n",
    "plt.show()\n",
    "fig.savefig('pie_cover_coastline.png')"
   ]
  },
  {
   "cell_type": "markdown",
   "metadata": {},
   "source": [
    "### 38.7% of coastline points are considered as sea and ocean by ECOCLIMAP. Are these points in a specific region? how far are these points from the ECOCLIMAP land values? On the other hand 32.2% are represented as temperate grassland how far are these points from the ECOCLIMAP sea?"
   ]
  },
  {
   "cell_type": "markdown",
   "metadata": {},
   "source": [
    "### When coastline is represented by sea and ocean what is its distance from 'ECOCLIMAP' coastline"
   ]
  },
  {
   "cell_type": "code",
   "execution_count": null,
   "metadata": {},
   "outputs": [],
   "source": [
    "soc=np.where(covernum[Linenum]==1)[0] #select sea and ocean coastline points\n",
    "indx,indy=np.where(DSG!=1) # create all non-sea index\n",
    "LATSGs=LATSG[indx]# create the corresponding latitude\n",
    "LONSGs=LONSG[indy]# create the correponding longitude"
   ]
  },
  {
   "cell_type": "code",
   "execution_count": null,
   "metadata": {},
   "outputs": [],
   "source": [
    "pointsx=[indicelat[s] for s in soc]\n",
    "pointsy=[indicelon[s] for s in soc]"
   ]
  },
  {
   "cell_type": "code",
   "execution_count": null,
   "metadata": {},
   "outputs": [],
   "source": [
    "idxs=[np.argmin(np.abs(LAT[px]-LATSGs)) for px in pointsx]\n",
    "idys=[np.argmin(np.abs(LON[py]-LONSGs)) for py in pointsy]"
   ]
  },
  {
   "cell_type": "code",
   "execution_count": null,
   "metadata": {},
   "outputs": [],
   "source": [
    "distances=[distance_latlon(LAT[pointsx[n]],LON[pointsy[n]],LATSGs[idxs[n]],LONSGs[idys[n]]) for n in range(0,len(idxs))]"
   ]
  },
  {
   "cell_type": "code",
   "execution_count": null,
   "metadata": {},
   "outputs": [],
   "source": [
    "fig, ax = plt.subplots(figsize=(15,15))\n",
    "ax.hist(distances)\n",
    "ax.set_xlabel('Distance (m)',fontsize=20)\n",
    "ax.set_ylabel('Occurence',fontsize=20)\n",
    "ax.xaxis.set_tick_params(labelsize=20)\n",
    "ax.yaxis.set_tick_params(labelsize=20)\n",
    "fig.savefig('sea_point_histogram.png')"
   ]
  },
  {
   "cell_type": "markdown",
   "metadata": {},
   "source": [
    "### Sea and ocean coastline index are less than 200m from the closest cover which is less than a pixel gap. "
   ]
  },
  {
   "cell_type": "code",
   "execution_count": null,
   "metadata": {},
   "outputs": [],
   "source": []
  }
 ],
 "metadata": {
  "kernelspec": {
   "display_name": "Python 3",
   "language": "python",
   "name": "python3"
  },
  "language_info": {
   "codemirror_mode": {
    "name": "ipython",
    "version": 3
   },
   "file_extension": ".py",
   "mimetype": "text/x-python",
   "name": "python",
   "nbconvert_exporter": "python",
   "pygments_lexer": "ipython3",
   "version": "3.6.9"
  }
 },
 "nbformat": 4,
 "nbformat_minor": 4
}
